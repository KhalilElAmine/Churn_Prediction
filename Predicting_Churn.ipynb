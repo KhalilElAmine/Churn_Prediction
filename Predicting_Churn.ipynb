{
  "cells": [
    {
      "cell_type": "code",
      "execution_count": null,
      "metadata": {
        "colab": {
          "base_uri": "https://localhost:8080/"
        },
        "id": "e8TDs1w3NAHN",
        "outputId": "fc04aa8f-70f6-4d2a-d629-3e66d3d36a7a"
      },
      "outputs": [
        {
          "output_type": "stream",
          "name": "stdout",
          "text": [
            "Mounted at /content/drive\n"
          ]
        }
      ],
      "source": [
        "from google.colab import drive\n",
        "\n",
        "drive.mount('/content/drive')\n"
      ]
    },
    {
      "cell_type": "code",
      "execution_count": null,
      "metadata": {
        "id": "LOgE9KkjOHho"
      },
      "outputs": [],
      "source": [
        "import pandas as pd\n",
        "\n",
        "# Read the CSV file\n",
        "data = pd.read_csv('/content/drive/MyDrive/Summer Projects/churn.csv')"
      ]
    },
    {
      "cell_type": "code",
      "execution_count": null,
      "metadata": {
        "colab": {
          "base_uri": "https://localhost:8080/",
          "height": 386
        },
        "id": "LUiImRukOTDb",
        "outputId": "57740b0c-a3ef-4e8a-d0c3-ae6a0aa95979"
      },
      "outputs": [
        {
          "output_type": "execute_result",
          "data": {
            "text/plain": [
              "   customerID  gender  SeniorCitizen Partner Dependents  tenure PhoneService  \\\n",
              "0  7590-VHVEG  Female              0     Yes         No       1           No   \n",
              "1  5575-GNVDE    Male              0      No         No      34          Yes   \n",
              "2  3668-QPYBK    Male              0      No         No       2          Yes   \n",
              "3  7795-CFOCW    Male              0      No         No      45           No   \n",
              "4  9237-HQITU  Female              0      No         No       2          Yes   \n",
              "\n",
              "      MultipleLines InternetService OnlineSecurity  ... DeviceProtection  \\\n",
              "0  No phone service             DSL             No  ...               No   \n",
              "1                No             DSL            Yes  ...              Yes   \n",
              "2                No             DSL            Yes  ...               No   \n",
              "3  No phone service             DSL            Yes  ...              Yes   \n",
              "4                No     Fiber optic             No  ...               No   \n",
              "\n",
              "  TechSupport StreamingTV StreamingMovies        Contract PaperlessBilling  \\\n",
              "0          No          No              No  Month-to-month              Yes   \n",
              "1          No          No              No        One year               No   \n",
              "2          No          No              No  Month-to-month              Yes   \n",
              "3         Yes          No              No        One year               No   \n",
              "4          No          No              No  Month-to-month              Yes   \n",
              "\n",
              "               PaymentMethod MonthlyCharges  TotalCharges Churn  \n",
              "0           Electronic check          29.85         29.85    No  \n",
              "1               Mailed check          56.95        1889.5    No  \n",
              "2               Mailed check          53.85        108.15   Yes  \n",
              "3  Bank transfer (automatic)          42.30       1840.75    No  \n",
              "4           Electronic check          70.70        151.65   Yes  \n",
              "\n",
              "[5 rows x 21 columns]"
            ],
            "text/html": [
              "\n",
              "\n",
              "  <div id=\"df-55f72b28-98e4-4fc6-9282-b3652fd20336\">\n",
              "    <div class=\"colab-df-container\">\n",
              "      <div>\n",
              "<style scoped>\n",
              "    .dataframe tbody tr th:only-of-type {\n",
              "        vertical-align: middle;\n",
              "    }\n",
              "\n",
              "    .dataframe tbody tr th {\n",
              "        vertical-align: top;\n",
              "    }\n",
              "\n",
              "    .dataframe thead th {\n",
              "        text-align: right;\n",
              "    }\n",
              "</style>\n",
              "<table border=\"1\" class=\"dataframe\">\n",
              "  <thead>\n",
              "    <tr style=\"text-align: right;\">\n",
              "      <th></th>\n",
              "      <th>customerID</th>\n",
              "      <th>gender</th>\n",
              "      <th>SeniorCitizen</th>\n",
              "      <th>Partner</th>\n",
              "      <th>Dependents</th>\n",
              "      <th>tenure</th>\n",
              "      <th>PhoneService</th>\n",
              "      <th>MultipleLines</th>\n",
              "      <th>InternetService</th>\n",
              "      <th>OnlineSecurity</th>\n",
              "      <th>...</th>\n",
              "      <th>DeviceProtection</th>\n",
              "      <th>TechSupport</th>\n",
              "      <th>StreamingTV</th>\n",
              "      <th>StreamingMovies</th>\n",
              "      <th>Contract</th>\n",
              "      <th>PaperlessBilling</th>\n",
              "      <th>PaymentMethod</th>\n",
              "      <th>MonthlyCharges</th>\n",
              "      <th>TotalCharges</th>\n",
              "      <th>Churn</th>\n",
              "    </tr>\n",
              "  </thead>\n",
              "  <tbody>\n",
              "    <tr>\n",
              "      <th>0</th>\n",
              "      <td>7590-VHVEG</td>\n",
              "      <td>Female</td>\n",
              "      <td>0</td>\n",
              "      <td>Yes</td>\n",
              "      <td>No</td>\n",
              "      <td>1</td>\n",
              "      <td>No</td>\n",
              "      <td>No phone service</td>\n",
              "      <td>DSL</td>\n",
              "      <td>No</td>\n",
              "      <td>...</td>\n",
              "      <td>No</td>\n",
              "      <td>No</td>\n",
              "      <td>No</td>\n",
              "      <td>No</td>\n",
              "      <td>Month-to-month</td>\n",
              "      <td>Yes</td>\n",
              "      <td>Electronic check</td>\n",
              "      <td>29.85</td>\n",
              "      <td>29.85</td>\n",
              "      <td>No</td>\n",
              "    </tr>\n",
              "    <tr>\n",
              "      <th>1</th>\n",
              "      <td>5575-GNVDE</td>\n",
              "      <td>Male</td>\n",
              "      <td>0</td>\n",
              "      <td>No</td>\n",
              "      <td>No</td>\n",
              "      <td>34</td>\n",
              "      <td>Yes</td>\n",
              "      <td>No</td>\n",
              "      <td>DSL</td>\n",
              "      <td>Yes</td>\n",
              "      <td>...</td>\n",
              "      <td>Yes</td>\n",
              "      <td>No</td>\n",
              "      <td>No</td>\n",
              "      <td>No</td>\n",
              "      <td>One year</td>\n",
              "      <td>No</td>\n",
              "      <td>Mailed check</td>\n",
              "      <td>56.95</td>\n",
              "      <td>1889.5</td>\n",
              "      <td>No</td>\n",
              "    </tr>\n",
              "    <tr>\n",
              "      <th>2</th>\n",
              "      <td>3668-QPYBK</td>\n",
              "      <td>Male</td>\n",
              "      <td>0</td>\n",
              "      <td>No</td>\n",
              "      <td>No</td>\n",
              "      <td>2</td>\n",
              "      <td>Yes</td>\n",
              "      <td>No</td>\n",
              "      <td>DSL</td>\n",
              "      <td>Yes</td>\n",
              "      <td>...</td>\n",
              "      <td>No</td>\n",
              "      <td>No</td>\n",
              "      <td>No</td>\n",
              "      <td>No</td>\n",
              "      <td>Month-to-month</td>\n",
              "      <td>Yes</td>\n",
              "      <td>Mailed check</td>\n",
              "      <td>53.85</td>\n",
              "      <td>108.15</td>\n",
              "      <td>Yes</td>\n",
              "    </tr>\n",
              "    <tr>\n",
              "      <th>3</th>\n",
              "      <td>7795-CFOCW</td>\n",
              "      <td>Male</td>\n",
              "      <td>0</td>\n",
              "      <td>No</td>\n",
              "      <td>No</td>\n",
              "      <td>45</td>\n",
              "      <td>No</td>\n",
              "      <td>No phone service</td>\n",
              "      <td>DSL</td>\n",
              "      <td>Yes</td>\n",
              "      <td>...</td>\n",
              "      <td>Yes</td>\n",
              "      <td>Yes</td>\n",
              "      <td>No</td>\n",
              "      <td>No</td>\n",
              "      <td>One year</td>\n",
              "      <td>No</td>\n",
              "      <td>Bank transfer (automatic)</td>\n",
              "      <td>42.30</td>\n",
              "      <td>1840.75</td>\n",
              "      <td>No</td>\n",
              "    </tr>\n",
              "    <tr>\n",
              "      <th>4</th>\n",
              "      <td>9237-HQITU</td>\n",
              "      <td>Female</td>\n",
              "      <td>0</td>\n",
              "      <td>No</td>\n",
              "      <td>No</td>\n",
              "      <td>2</td>\n",
              "      <td>Yes</td>\n",
              "      <td>No</td>\n",
              "      <td>Fiber optic</td>\n",
              "      <td>No</td>\n",
              "      <td>...</td>\n",
              "      <td>No</td>\n",
              "      <td>No</td>\n",
              "      <td>No</td>\n",
              "      <td>No</td>\n",
              "      <td>Month-to-month</td>\n",
              "      <td>Yes</td>\n",
              "      <td>Electronic check</td>\n",
              "      <td>70.70</td>\n",
              "      <td>151.65</td>\n",
              "      <td>Yes</td>\n",
              "    </tr>\n",
              "  </tbody>\n",
              "</table>\n",
              "<p>5 rows × 21 columns</p>\n",
              "</div>\n",
              "      <button class=\"colab-df-convert\" onclick=\"convertToInteractive('df-55f72b28-98e4-4fc6-9282-b3652fd20336')\"\n",
              "              title=\"Convert this dataframe to an interactive table.\"\n",
              "              style=\"display:none;\">\n",
              "\n",
              "  <svg xmlns=\"http://www.w3.org/2000/svg\" height=\"24px\"viewBox=\"0 0 24 24\"\n",
              "       width=\"24px\">\n",
              "    <path d=\"M0 0h24v24H0V0z\" fill=\"none\"/>\n",
              "    <path d=\"M18.56 5.44l.94 2.06.94-2.06 2.06-.94-2.06-.94-.94-2.06-.94 2.06-2.06.94zm-11 1L8.5 8.5l.94-2.06 2.06-.94-2.06-.94L8.5 2.5l-.94 2.06-2.06.94zm10 10l.94 2.06.94-2.06 2.06-.94-2.06-.94-.94-2.06-.94 2.06-2.06.94z\"/><path d=\"M17.41 7.96l-1.37-1.37c-.4-.4-.92-.59-1.43-.59-.52 0-1.04.2-1.43.59L10.3 9.45l-7.72 7.72c-.78.78-.78 2.05 0 2.83L4 21.41c.39.39.9.59 1.41.59.51 0 1.02-.2 1.41-.59l7.78-7.78 2.81-2.81c.8-.78.8-2.07 0-2.86zM5.41 20L4 18.59l7.72-7.72 1.47 1.35L5.41 20z\"/>\n",
              "  </svg>\n",
              "      </button>\n",
              "\n",
              "\n",
              "\n",
              "    <div id=\"df-e5556f20-bed5-4ef9-bd09-2a26b192147d\">\n",
              "      <button class=\"colab-df-quickchart\" onclick=\"quickchart('df-e5556f20-bed5-4ef9-bd09-2a26b192147d')\"\n",
              "              title=\"Suggest charts.\"\n",
              "              style=\"display:none;\">\n",
              "\n",
              "<svg xmlns=\"http://www.w3.org/2000/svg\" height=\"24px\"viewBox=\"0 0 24 24\"\n",
              "     width=\"24px\">\n",
              "    <g>\n",
              "        <path d=\"M19 3H5c-1.1 0-2 .9-2 2v14c0 1.1.9 2 2 2h14c1.1 0 2-.9 2-2V5c0-1.1-.9-2-2-2zM9 17H7v-7h2v7zm4 0h-2V7h2v10zm4 0h-2v-4h2v4z\"/>\n",
              "    </g>\n",
              "</svg>\n",
              "      </button>\n",
              "    </div>\n",
              "\n",
              "<style>\n",
              "  .colab-df-quickchart {\n",
              "    background-color: #E8F0FE;\n",
              "    border: none;\n",
              "    border-radius: 50%;\n",
              "    cursor: pointer;\n",
              "    display: none;\n",
              "    fill: #1967D2;\n",
              "    height: 32px;\n",
              "    padding: 0 0 0 0;\n",
              "    width: 32px;\n",
              "  }\n",
              "\n",
              "  .colab-df-quickchart:hover {\n",
              "    background-color: #E2EBFA;\n",
              "    box-shadow: 0px 1px 2px rgba(60, 64, 67, 0.3), 0px 1px 3px 1px rgba(60, 64, 67, 0.15);\n",
              "    fill: #174EA6;\n",
              "  }\n",
              "\n",
              "  [theme=dark] .colab-df-quickchart {\n",
              "    background-color: #3B4455;\n",
              "    fill: #D2E3FC;\n",
              "  }\n",
              "\n",
              "  [theme=dark] .colab-df-quickchart:hover {\n",
              "    background-color: #434B5C;\n",
              "    box-shadow: 0px 1px 3px 1px rgba(0, 0, 0, 0.15);\n",
              "    filter: drop-shadow(0px 1px 2px rgba(0, 0, 0, 0.3));\n",
              "    fill: #FFFFFF;\n",
              "  }\n",
              "</style>\n",
              "\n",
              "    <script>\n",
              "      async function quickchart(key) {\n",
              "        const containerElement = document.querySelector('#' + key);\n",
              "        const charts = await google.colab.kernel.invokeFunction(\n",
              "            'suggestCharts', [key], {});\n",
              "      }\n",
              "    </script>\n",
              "\n",
              "      <script>\n",
              "\n",
              "function displayQuickchartButton(domScope) {\n",
              "  let quickchartButtonEl =\n",
              "    domScope.querySelector('#df-e5556f20-bed5-4ef9-bd09-2a26b192147d button.colab-df-quickchart');\n",
              "  quickchartButtonEl.style.display =\n",
              "    google.colab.kernel.accessAllowed ? 'block' : 'none';\n",
              "}\n",
              "\n",
              "        displayQuickchartButton(document);\n",
              "      </script>\n",
              "      <style>\n",
              "    .colab-df-container {\n",
              "      display:flex;\n",
              "      flex-wrap:wrap;\n",
              "      gap: 12px;\n",
              "    }\n",
              "\n",
              "    .colab-df-convert {\n",
              "      background-color: #E8F0FE;\n",
              "      border: none;\n",
              "      border-radius: 50%;\n",
              "      cursor: pointer;\n",
              "      display: none;\n",
              "      fill: #1967D2;\n",
              "      height: 32px;\n",
              "      padding: 0 0 0 0;\n",
              "      width: 32px;\n",
              "    }\n",
              "\n",
              "    .colab-df-convert:hover {\n",
              "      background-color: #E2EBFA;\n",
              "      box-shadow: 0px 1px 2px rgba(60, 64, 67, 0.3), 0px 1px 3px 1px rgba(60, 64, 67, 0.15);\n",
              "      fill: #174EA6;\n",
              "    }\n",
              "\n",
              "    [theme=dark] .colab-df-convert {\n",
              "      background-color: #3B4455;\n",
              "      fill: #D2E3FC;\n",
              "    }\n",
              "\n",
              "    [theme=dark] .colab-df-convert:hover {\n",
              "      background-color: #434B5C;\n",
              "      box-shadow: 0px 1px 3px 1px rgba(0, 0, 0, 0.15);\n",
              "      filter: drop-shadow(0px 1px 2px rgba(0, 0, 0, 0.3));\n",
              "      fill: #FFFFFF;\n",
              "    }\n",
              "  </style>\n",
              "\n",
              "      <script>\n",
              "        const buttonEl =\n",
              "          document.querySelector('#df-55f72b28-98e4-4fc6-9282-b3652fd20336 button.colab-df-convert');\n",
              "        buttonEl.style.display =\n",
              "          google.colab.kernel.accessAllowed ? 'block' : 'none';\n",
              "\n",
              "        async function convertToInteractive(key) {\n",
              "          const element = document.querySelector('#df-55f72b28-98e4-4fc6-9282-b3652fd20336');\n",
              "          const dataTable =\n",
              "            await google.colab.kernel.invokeFunction('convertToInteractive',\n",
              "                                                     [key], {});\n",
              "          if (!dataTable) return;\n",
              "\n",
              "          const docLinkHtml = 'Like what you see? Visit the ' +\n",
              "            '<a target=\"_blank\" href=https://colab.research.google.com/notebooks/data_table.ipynb>data table notebook</a>'\n",
              "            + ' to learn more about interactive tables.';\n",
              "          element.innerHTML = '';\n",
              "          dataTable['output_type'] = 'display_data';\n",
              "          await google.colab.output.renderOutput(dataTable, element);\n",
              "          const docLink = document.createElement('div');\n",
              "          docLink.innerHTML = docLinkHtml;\n",
              "          element.appendChild(docLink);\n",
              "        }\n",
              "      </script>\n",
              "    </div>\n",
              "  </div>\n"
            ]
          },
          "metadata": {},
          "execution_count": 43
        }
      ],
      "source": [
        "data.head()"
      ]
    },
    {
      "cell_type": "markdown",
      "metadata": {
        "id": "fEky2qhjQHsN"
      },
      "source": [
        "**dropping customer ID as it is of no use for our learning algorithm**"
      ]
    },
    {
      "cell_type": "code",
      "execution_count": null,
      "metadata": {
        "id": "TCUIk5h2OTCZ"
      },
      "outputs": [],
      "source": [
        "data=data.drop(\"customerID\",axis=1)"
      ]
    },
    {
      "cell_type": "code",
      "execution_count": null,
      "metadata": {
        "colab": {
          "base_uri": "https://localhost:8080/",
          "height": 340
        },
        "id": "lJblyu5UQXMs",
        "outputId": "f5f76ab4-6152-49fa-90b9-ba8638f04e4c"
      },
      "outputs": [
        {
          "output_type": "execute_result",
          "data": {
            "text/plain": [
              "   gender  SeniorCitizen Partner Dependents  tenure PhoneService  \\\n",
              "0  Female              0     Yes         No       1           No   \n",
              "1    Male              0      No         No      34          Yes   \n",
              "2    Male              0      No         No       2          Yes   \n",
              "3    Male              0      No         No      45           No   \n",
              "4  Female              0      No         No       2          Yes   \n",
              "\n",
              "      MultipleLines InternetService OnlineSecurity OnlineBackup  \\\n",
              "0  No phone service             DSL             No          Yes   \n",
              "1                No             DSL            Yes           No   \n",
              "2                No             DSL            Yes          Yes   \n",
              "3  No phone service             DSL            Yes           No   \n",
              "4                No     Fiber optic             No           No   \n",
              "\n",
              "  DeviceProtection TechSupport StreamingTV StreamingMovies        Contract  \\\n",
              "0               No          No          No              No  Month-to-month   \n",
              "1              Yes          No          No              No        One year   \n",
              "2               No          No          No              No  Month-to-month   \n",
              "3              Yes         Yes          No              No        One year   \n",
              "4               No          No          No              No  Month-to-month   \n",
              "\n",
              "  PaperlessBilling              PaymentMethod  MonthlyCharges TotalCharges  \\\n",
              "0              Yes           Electronic check           29.85        29.85   \n",
              "1               No               Mailed check           56.95       1889.5   \n",
              "2              Yes               Mailed check           53.85       108.15   \n",
              "3               No  Bank transfer (automatic)           42.30      1840.75   \n",
              "4              Yes           Electronic check           70.70       151.65   \n",
              "\n",
              "  Churn  \n",
              "0    No  \n",
              "1    No  \n",
              "2   Yes  \n",
              "3    No  \n",
              "4   Yes  "
            ],
            "text/html": [
              "\n",
              "\n",
              "  <div id=\"df-ed2f94de-f641-4a82-8c0c-0fd5a11784e5\">\n",
              "    <div class=\"colab-df-container\">\n",
              "      <div>\n",
              "<style scoped>\n",
              "    .dataframe tbody tr th:only-of-type {\n",
              "        vertical-align: middle;\n",
              "    }\n",
              "\n",
              "    .dataframe tbody tr th {\n",
              "        vertical-align: top;\n",
              "    }\n",
              "\n",
              "    .dataframe thead th {\n",
              "        text-align: right;\n",
              "    }\n",
              "</style>\n",
              "<table border=\"1\" class=\"dataframe\">\n",
              "  <thead>\n",
              "    <tr style=\"text-align: right;\">\n",
              "      <th></th>\n",
              "      <th>gender</th>\n",
              "      <th>SeniorCitizen</th>\n",
              "      <th>Partner</th>\n",
              "      <th>Dependents</th>\n",
              "      <th>tenure</th>\n",
              "      <th>PhoneService</th>\n",
              "      <th>MultipleLines</th>\n",
              "      <th>InternetService</th>\n",
              "      <th>OnlineSecurity</th>\n",
              "      <th>OnlineBackup</th>\n",
              "      <th>DeviceProtection</th>\n",
              "      <th>TechSupport</th>\n",
              "      <th>StreamingTV</th>\n",
              "      <th>StreamingMovies</th>\n",
              "      <th>Contract</th>\n",
              "      <th>PaperlessBilling</th>\n",
              "      <th>PaymentMethod</th>\n",
              "      <th>MonthlyCharges</th>\n",
              "      <th>TotalCharges</th>\n",
              "      <th>Churn</th>\n",
              "    </tr>\n",
              "  </thead>\n",
              "  <tbody>\n",
              "    <tr>\n",
              "      <th>0</th>\n",
              "      <td>Female</td>\n",
              "      <td>0</td>\n",
              "      <td>Yes</td>\n",
              "      <td>No</td>\n",
              "      <td>1</td>\n",
              "      <td>No</td>\n",
              "      <td>No phone service</td>\n",
              "      <td>DSL</td>\n",
              "      <td>No</td>\n",
              "      <td>Yes</td>\n",
              "      <td>No</td>\n",
              "      <td>No</td>\n",
              "      <td>No</td>\n",
              "      <td>No</td>\n",
              "      <td>Month-to-month</td>\n",
              "      <td>Yes</td>\n",
              "      <td>Electronic check</td>\n",
              "      <td>29.85</td>\n",
              "      <td>29.85</td>\n",
              "      <td>No</td>\n",
              "    </tr>\n",
              "    <tr>\n",
              "      <th>1</th>\n",
              "      <td>Male</td>\n",
              "      <td>0</td>\n",
              "      <td>No</td>\n",
              "      <td>No</td>\n",
              "      <td>34</td>\n",
              "      <td>Yes</td>\n",
              "      <td>No</td>\n",
              "      <td>DSL</td>\n",
              "      <td>Yes</td>\n",
              "      <td>No</td>\n",
              "      <td>Yes</td>\n",
              "      <td>No</td>\n",
              "      <td>No</td>\n",
              "      <td>No</td>\n",
              "      <td>One year</td>\n",
              "      <td>No</td>\n",
              "      <td>Mailed check</td>\n",
              "      <td>56.95</td>\n",
              "      <td>1889.5</td>\n",
              "      <td>No</td>\n",
              "    </tr>\n",
              "    <tr>\n",
              "      <th>2</th>\n",
              "      <td>Male</td>\n",
              "      <td>0</td>\n",
              "      <td>No</td>\n",
              "      <td>No</td>\n",
              "      <td>2</td>\n",
              "      <td>Yes</td>\n",
              "      <td>No</td>\n",
              "      <td>DSL</td>\n",
              "      <td>Yes</td>\n",
              "      <td>Yes</td>\n",
              "      <td>No</td>\n",
              "      <td>No</td>\n",
              "      <td>No</td>\n",
              "      <td>No</td>\n",
              "      <td>Month-to-month</td>\n",
              "      <td>Yes</td>\n",
              "      <td>Mailed check</td>\n",
              "      <td>53.85</td>\n",
              "      <td>108.15</td>\n",
              "      <td>Yes</td>\n",
              "    </tr>\n",
              "    <tr>\n",
              "      <th>3</th>\n",
              "      <td>Male</td>\n",
              "      <td>0</td>\n",
              "      <td>No</td>\n",
              "      <td>No</td>\n",
              "      <td>45</td>\n",
              "      <td>No</td>\n",
              "      <td>No phone service</td>\n",
              "      <td>DSL</td>\n",
              "      <td>Yes</td>\n",
              "      <td>No</td>\n",
              "      <td>Yes</td>\n",
              "      <td>Yes</td>\n",
              "      <td>No</td>\n",
              "      <td>No</td>\n",
              "      <td>One year</td>\n",
              "      <td>No</td>\n",
              "      <td>Bank transfer (automatic)</td>\n",
              "      <td>42.30</td>\n",
              "      <td>1840.75</td>\n",
              "      <td>No</td>\n",
              "    </tr>\n",
              "    <tr>\n",
              "      <th>4</th>\n",
              "      <td>Female</td>\n",
              "      <td>0</td>\n",
              "      <td>No</td>\n",
              "      <td>No</td>\n",
              "      <td>2</td>\n",
              "      <td>Yes</td>\n",
              "      <td>No</td>\n",
              "      <td>Fiber optic</td>\n",
              "      <td>No</td>\n",
              "      <td>No</td>\n",
              "      <td>No</td>\n",
              "      <td>No</td>\n",
              "      <td>No</td>\n",
              "      <td>No</td>\n",
              "      <td>Month-to-month</td>\n",
              "      <td>Yes</td>\n",
              "      <td>Electronic check</td>\n",
              "      <td>70.70</td>\n",
              "      <td>151.65</td>\n",
              "      <td>Yes</td>\n",
              "    </tr>\n",
              "  </tbody>\n",
              "</table>\n",
              "</div>\n",
              "      <button class=\"colab-df-convert\" onclick=\"convertToInteractive('df-ed2f94de-f641-4a82-8c0c-0fd5a11784e5')\"\n",
              "              title=\"Convert this dataframe to an interactive table.\"\n",
              "              style=\"display:none;\">\n",
              "\n",
              "  <svg xmlns=\"http://www.w3.org/2000/svg\" height=\"24px\"viewBox=\"0 0 24 24\"\n",
              "       width=\"24px\">\n",
              "    <path d=\"M0 0h24v24H0V0z\" fill=\"none\"/>\n",
              "    <path d=\"M18.56 5.44l.94 2.06.94-2.06 2.06-.94-2.06-.94-.94-2.06-.94 2.06-2.06.94zm-11 1L8.5 8.5l.94-2.06 2.06-.94-2.06-.94L8.5 2.5l-.94 2.06-2.06.94zm10 10l.94 2.06.94-2.06 2.06-.94-2.06-.94-.94-2.06-.94 2.06-2.06.94z\"/><path d=\"M17.41 7.96l-1.37-1.37c-.4-.4-.92-.59-1.43-.59-.52 0-1.04.2-1.43.59L10.3 9.45l-7.72 7.72c-.78.78-.78 2.05 0 2.83L4 21.41c.39.39.9.59 1.41.59.51 0 1.02-.2 1.41-.59l7.78-7.78 2.81-2.81c.8-.78.8-2.07 0-2.86zM5.41 20L4 18.59l7.72-7.72 1.47 1.35L5.41 20z\"/>\n",
              "  </svg>\n",
              "      </button>\n",
              "\n",
              "\n",
              "\n",
              "    <div id=\"df-219ead67-f625-45c2-83d7-40f0c573181b\">\n",
              "      <button class=\"colab-df-quickchart\" onclick=\"quickchart('df-219ead67-f625-45c2-83d7-40f0c573181b')\"\n",
              "              title=\"Suggest charts.\"\n",
              "              style=\"display:none;\">\n",
              "\n",
              "<svg xmlns=\"http://www.w3.org/2000/svg\" height=\"24px\"viewBox=\"0 0 24 24\"\n",
              "     width=\"24px\">\n",
              "    <g>\n",
              "        <path d=\"M19 3H5c-1.1 0-2 .9-2 2v14c0 1.1.9 2 2 2h14c1.1 0 2-.9 2-2V5c0-1.1-.9-2-2-2zM9 17H7v-7h2v7zm4 0h-2V7h2v10zm4 0h-2v-4h2v4z\"/>\n",
              "    </g>\n",
              "</svg>\n",
              "      </button>\n",
              "    </div>\n",
              "\n",
              "<style>\n",
              "  .colab-df-quickchart {\n",
              "    background-color: #E8F0FE;\n",
              "    border: none;\n",
              "    border-radius: 50%;\n",
              "    cursor: pointer;\n",
              "    display: none;\n",
              "    fill: #1967D2;\n",
              "    height: 32px;\n",
              "    padding: 0 0 0 0;\n",
              "    width: 32px;\n",
              "  }\n",
              "\n",
              "  .colab-df-quickchart:hover {\n",
              "    background-color: #E2EBFA;\n",
              "    box-shadow: 0px 1px 2px rgba(60, 64, 67, 0.3), 0px 1px 3px 1px rgba(60, 64, 67, 0.15);\n",
              "    fill: #174EA6;\n",
              "  }\n",
              "\n",
              "  [theme=dark] .colab-df-quickchart {\n",
              "    background-color: #3B4455;\n",
              "    fill: #D2E3FC;\n",
              "  }\n",
              "\n",
              "  [theme=dark] .colab-df-quickchart:hover {\n",
              "    background-color: #434B5C;\n",
              "    box-shadow: 0px 1px 3px 1px rgba(0, 0, 0, 0.15);\n",
              "    filter: drop-shadow(0px 1px 2px rgba(0, 0, 0, 0.3));\n",
              "    fill: #FFFFFF;\n",
              "  }\n",
              "</style>\n",
              "\n",
              "    <script>\n",
              "      async function quickchart(key) {\n",
              "        const containerElement = document.querySelector('#' + key);\n",
              "        const charts = await google.colab.kernel.invokeFunction(\n",
              "            'suggestCharts', [key], {});\n",
              "      }\n",
              "    </script>\n",
              "\n",
              "      <script>\n",
              "\n",
              "function displayQuickchartButton(domScope) {\n",
              "  let quickchartButtonEl =\n",
              "    domScope.querySelector('#df-219ead67-f625-45c2-83d7-40f0c573181b button.colab-df-quickchart');\n",
              "  quickchartButtonEl.style.display =\n",
              "    google.colab.kernel.accessAllowed ? 'block' : 'none';\n",
              "}\n",
              "\n",
              "        displayQuickchartButton(document);\n",
              "      </script>\n",
              "      <style>\n",
              "    .colab-df-container {\n",
              "      display:flex;\n",
              "      flex-wrap:wrap;\n",
              "      gap: 12px;\n",
              "    }\n",
              "\n",
              "    .colab-df-convert {\n",
              "      background-color: #E8F0FE;\n",
              "      border: none;\n",
              "      border-radius: 50%;\n",
              "      cursor: pointer;\n",
              "      display: none;\n",
              "      fill: #1967D2;\n",
              "      height: 32px;\n",
              "      padding: 0 0 0 0;\n",
              "      width: 32px;\n",
              "    }\n",
              "\n",
              "    .colab-df-convert:hover {\n",
              "      background-color: #E2EBFA;\n",
              "      box-shadow: 0px 1px 2px rgba(60, 64, 67, 0.3), 0px 1px 3px 1px rgba(60, 64, 67, 0.15);\n",
              "      fill: #174EA6;\n",
              "    }\n",
              "\n",
              "    [theme=dark] .colab-df-convert {\n",
              "      background-color: #3B4455;\n",
              "      fill: #D2E3FC;\n",
              "    }\n",
              "\n",
              "    [theme=dark] .colab-df-convert:hover {\n",
              "      background-color: #434B5C;\n",
              "      box-shadow: 0px 1px 3px 1px rgba(0, 0, 0, 0.15);\n",
              "      filter: drop-shadow(0px 1px 2px rgba(0, 0, 0, 0.3));\n",
              "      fill: #FFFFFF;\n",
              "    }\n",
              "  </style>\n",
              "\n",
              "      <script>\n",
              "        const buttonEl =\n",
              "          document.querySelector('#df-ed2f94de-f641-4a82-8c0c-0fd5a11784e5 button.colab-df-convert');\n",
              "        buttonEl.style.display =\n",
              "          google.colab.kernel.accessAllowed ? 'block' : 'none';\n",
              "\n",
              "        async function convertToInteractive(key) {\n",
              "          const element = document.querySelector('#df-ed2f94de-f641-4a82-8c0c-0fd5a11784e5');\n",
              "          const dataTable =\n",
              "            await google.colab.kernel.invokeFunction('convertToInteractive',\n",
              "                                                     [key], {});\n",
              "          if (!dataTable) return;\n",
              "\n",
              "          const docLinkHtml = 'Like what you see? Visit the ' +\n",
              "            '<a target=\"_blank\" href=https://colab.research.google.com/notebooks/data_table.ipynb>data table notebook</a>'\n",
              "            + ' to learn more about interactive tables.';\n",
              "          element.innerHTML = '';\n",
              "          dataTable['output_type'] = 'display_data';\n",
              "          await google.colab.output.renderOutput(dataTable, element);\n",
              "          const docLink = document.createElement('div');\n",
              "          docLink.innerHTML = docLinkHtml;\n",
              "          element.appendChild(docLink);\n",
              "        }\n",
              "      </script>\n",
              "    </div>\n",
              "  </div>\n"
            ]
          },
          "metadata": {},
          "execution_count": 45
        }
      ],
      "source": [
        "data.head()"
      ]
    },
    {
      "cell_type": "markdown",
      "source": [
        "In order to do data cleaning we must first observe our features types"
      ],
      "metadata": {
        "id": "OHSgclS6rLUW"
      }
    },
    {
      "cell_type": "code",
      "execution_count": null,
      "metadata": {
        "colab": {
          "base_uri": "https://localhost:8080/"
        },
        "id": "E7NqatD7QXLm",
        "outputId": "18bea623-05eb-402c-c040-a83658124dab"
      },
      "outputs": [
        {
          "output_type": "execute_result",
          "data": {
            "text/plain": [
              "gender               object\n",
              "SeniorCitizen         int64\n",
              "Partner              object\n",
              "Dependents           object\n",
              "tenure                int64\n",
              "PhoneService         object\n",
              "MultipleLines        object\n",
              "InternetService      object\n",
              "OnlineSecurity       object\n",
              "OnlineBackup         object\n",
              "DeviceProtection     object\n",
              "TechSupport          object\n",
              "StreamingTV          object\n",
              "StreamingMovies      object\n",
              "Contract             object\n",
              "PaperlessBilling     object\n",
              "PaymentMethod        object\n",
              "MonthlyCharges      float64\n",
              "TotalCharges         object\n",
              "Churn                object\n",
              "dtype: object"
            ]
          },
          "metadata": {},
          "execution_count": 46
        }
      ],
      "source": [
        "data.dtypes"
      ]
    },
    {
      "cell_type": "markdown",
      "metadata": {
        "id": "I6jW3Qd6REFS"
      },
      "source": [
        " **noticing that total charges is an object instead of a number**"
      ]
    },
    {
      "cell_type": "code",
      "execution_count": null,
      "metadata": {
        "colab": {
          "base_uri": "https://localhost:8080/",
          "height": 293
        },
        "id": "-Xc4VSsHRLbf",
        "outputId": "1ea8efb7-8922-436a-e583-a89a0a5f399a"
      },
      "outputs": [
        {
          "output_type": "error",
          "ename": "ValueError",
          "evalue": "ignored",
          "traceback": [
            "\u001b[0;31m---------------------------------------------------------------------------\u001b[0m",
            "\u001b[0;31mValueError\u001b[0m                                Traceback (most recent call last)",
            "\u001b[0;32m/usr/local/lib/python3.10/dist-packages/pandas/_libs/lib.pyx\u001b[0m in \u001b[0;36mpandas._libs.lib.maybe_convert_numeric\u001b[0;34m()\u001b[0m\n",
            "\u001b[0;31mValueError\u001b[0m: Unable to parse string \" \"",
            "\nDuring handling of the above exception, another exception occurred:\n",
            "\u001b[0;31mValueError\u001b[0m                                Traceback (most recent call last)",
            "\u001b[0;32m<ipython-input-47-7aff909c046c>\u001b[0m in \u001b[0;36m<cell line: 1>\u001b[0;34m()\u001b[0m\n\u001b[0;32m----> 1\u001b[0;31m \u001b[0mpd\u001b[0m\u001b[0;34m.\u001b[0m\u001b[0mto_numeric\u001b[0m\u001b[0;34m(\u001b[0m\u001b[0mdata\u001b[0m\u001b[0;34m.\u001b[0m\u001b[0mTotalCharges\u001b[0m\u001b[0;34m)\u001b[0m\u001b[0;34m\u001b[0m\u001b[0;34m\u001b[0m\u001b[0m\n\u001b[0m",
            "\u001b[0;32m/usr/local/lib/python3.10/dist-packages/pandas/core/tools/numeric.py\u001b[0m in \u001b[0;36mto_numeric\u001b[0;34m(arg, errors, downcast)\u001b[0m\n\u001b[1;32m    183\u001b[0m         \u001b[0mcoerce_numeric\u001b[0m \u001b[0;34m=\u001b[0m \u001b[0merrors\u001b[0m \u001b[0;32mnot\u001b[0m \u001b[0;32min\u001b[0m \u001b[0;34m(\u001b[0m\u001b[0;34m\"ignore\"\u001b[0m\u001b[0;34m,\u001b[0m \u001b[0;34m\"raise\"\u001b[0m\u001b[0;34m)\u001b[0m\u001b[0;34m\u001b[0m\u001b[0;34m\u001b[0m\u001b[0m\n\u001b[1;32m    184\u001b[0m         \u001b[0;32mtry\u001b[0m\u001b[0;34m:\u001b[0m\u001b[0;34m\u001b[0m\u001b[0;34m\u001b[0m\u001b[0m\n\u001b[0;32m--> 185\u001b[0;31m             values, _ = lib.maybe_convert_numeric(\n\u001b[0m\u001b[1;32m    186\u001b[0m                 \u001b[0mvalues\u001b[0m\u001b[0;34m,\u001b[0m \u001b[0mset\u001b[0m\u001b[0;34m(\u001b[0m\u001b[0;34m)\u001b[0m\u001b[0;34m,\u001b[0m \u001b[0mcoerce_numeric\u001b[0m\u001b[0;34m=\u001b[0m\u001b[0mcoerce_numeric\u001b[0m\u001b[0;34m\u001b[0m\u001b[0;34m\u001b[0m\u001b[0m\n\u001b[1;32m    187\u001b[0m             )\n",
            "\u001b[0;32m/usr/local/lib/python3.10/dist-packages/pandas/_libs/lib.pyx\u001b[0m in \u001b[0;36mpandas._libs.lib.maybe_convert_numeric\u001b[0;34m()\u001b[0m\n",
            "\u001b[0;31mValueError\u001b[0m: Unable to parse string \" \" at position 488"
          ]
        }
      ],
      "source": [
        "pd.to_numeric(data.TotalCharges)"
      ]
    },
    {
      "cell_type": "markdown",
      "metadata": {
        "id": "uQUgA1DQRjpq"
      },
      "source": [
        "**There s a space (\" \") issue that needs adressing**"
      ]
    },
    {
      "cell_type": "code",
      "execution_count": null,
      "metadata": {
        "colab": {
          "base_uri": "https://localhost:8080/"
        },
        "id": "Z8zg7s_BRs80",
        "outputId": "a7437c39-bea0-410e-be6b-229412d24162"
      },
      "outputs": [
        {
          "output_type": "execute_result",
          "data": {
            "text/plain": [
              "0       False\n",
              "1       False\n",
              "2       False\n",
              "3       False\n",
              "4       False\n",
              "        ...  \n",
              "7038    False\n",
              "7039    False\n",
              "7040    False\n",
              "7041    False\n",
              "7042    False\n",
              "Name: TotalCharges, Length: 7043, dtype: bool"
            ]
          },
          "metadata": {},
          "execution_count": 48
        }
      ],
      "source": [
        "pd.to_numeric(data.TotalCharges,errors='coerce').isnull()\n",
        "#all the numeric values that has a space are changed to space values\n"
      ]
    },
    {
      "cell_type": "markdown",
      "metadata": {
        "id": "bD8s7-gcSm0k"
      },
      "source": [
        "removing all the rows that have spaces\n"
      ]
    },
    {
      "cell_type": "code",
      "execution_count": null,
      "metadata": {
        "id": "ylfwHMJFScgr"
      },
      "outputs": [],
      "source": [
        "data=data[data.TotalCharges!=' ']"
      ]
    },
    {
      "cell_type": "code",
      "source": [
        "data.TotalCharges = pd.to_numeric(data.TotalCharges)"
      ],
      "metadata": {
        "id": "TkXf6To9Bu8A"
      },
      "execution_count": null,
      "outputs": []
    },
    {
      "cell_type": "code",
      "execution_count": null,
      "metadata": {
        "colab": {
          "base_uri": "https://localhost:8080/",
          "height": 340
        },
        "id": "EV2NReO3TJCt",
        "outputId": "1f2cd24b-0b82-45ec-edb8-c29b5cf86897"
      },
      "outputs": [
        {
          "output_type": "execute_result",
          "data": {
            "text/plain": [
              "   gender  SeniorCitizen Partner Dependents  tenure PhoneService  \\\n",
              "0  Female              0     Yes         No       1           No   \n",
              "1    Male              0      No         No      34          Yes   \n",
              "2    Male              0      No         No       2          Yes   \n",
              "3    Male              0      No         No      45           No   \n",
              "4  Female              0      No         No       2          Yes   \n",
              "\n",
              "      MultipleLines InternetService OnlineSecurity OnlineBackup  \\\n",
              "0  No phone service             DSL             No          Yes   \n",
              "1                No             DSL            Yes           No   \n",
              "2                No             DSL            Yes          Yes   \n",
              "3  No phone service             DSL            Yes           No   \n",
              "4                No     Fiber optic             No           No   \n",
              "\n",
              "  DeviceProtection TechSupport StreamingTV StreamingMovies        Contract  \\\n",
              "0               No          No          No              No  Month-to-month   \n",
              "1              Yes          No          No              No        One year   \n",
              "2               No          No          No              No  Month-to-month   \n",
              "3              Yes         Yes          No              No        One year   \n",
              "4               No          No          No              No  Month-to-month   \n",
              "\n",
              "  PaperlessBilling              PaymentMethod  MonthlyCharges  TotalCharges  \\\n",
              "0              Yes           Electronic check           29.85         29.85   \n",
              "1               No               Mailed check           56.95       1889.50   \n",
              "2              Yes               Mailed check           53.85        108.15   \n",
              "3               No  Bank transfer (automatic)           42.30       1840.75   \n",
              "4              Yes           Electronic check           70.70        151.65   \n",
              "\n",
              "  Churn  \n",
              "0    No  \n",
              "1    No  \n",
              "2   Yes  \n",
              "3    No  \n",
              "4   Yes  "
            ],
            "text/html": [
              "\n",
              "\n",
              "  <div id=\"df-98179879-a858-4338-bf99-af4b1bed1958\">\n",
              "    <div class=\"colab-df-container\">\n",
              "      <div>\n",
              "<style scoped>\n",
              "    .dataframe tbody tr th:only-of-type {\n",
              "        vertical-align: middle;\n",
              "    }\n",
              "\n",
              "    .dataframe tbody tr th {\n",
              "        vertical-align: top;\n",
              "    }\n",
              "\n",
              "    .dataframe thead th {\n",
              "        text-align: right;\n",
              "    }\n",
              "</style>\n",
              "<table border=\"1\" class=\"dataframe\">\n",
              "  <thead>\n",
              "    <tr style=\"text-align: right;\">\n",
              "      <th></th>\n",
              "      <th>gender</th>\n",
              "      <th>SeniorCitizen</th>\n",
              "      <th>Partner</th>\n",
              "      <th>Dependents</th>\n",
              "      <th>tenure</th>\n",
              "      <th>PhoneService</th>\n",
              "      <th>MultipleLines</th>\n",
              "      <th>InternetService</th>\n",
              "      <th>OnlineSecurity</th>\n",
              "      <th>OnlineBackup</th>\n",
              "      <th>DeviceProtection</th>\n",
              "      <th>TechSupport</th>\n",
              "      <th>StreamingTV</th>\n",
              "      <th>StreamingMovies</th>\n",
              "      <th>Contract</th>\n",
              "      <th>PaperlessBilling</th>\n",
              "      <th>PaymentMethod</th>\n",
              "      <th>MonthlyCharges</th>\n",
              "      <th>TotalCharges</th>\n",
              "      <th>Churn</th>\n",
              "    </tr>\n",
              "  </thead>\n",
              "  <tbody>\n",
              "    <tr>\n",
              "      <th>0</th>\n",
              "      <td>Female</td>\n",
              "      <td>0</td>\n",
              "      <td>Yes</td>\n",
              "      <td>No</td>\n",
              "      <td>1</td>\n",
              "      <td>No</td>\n",
              "      <td>No phone service</td>\n",
              "      <td>DSL</td>\n",
              "      <td>No</td>\n",
              "      <td>Yes</td>\n",
              "      <td>No</td>\n",
              "      <td>No</td>\n",
              "      <td>No</td>\n",
              "      <td>No</td>\n",
              "      <td>Month-to-month</td>\n",
              "      <td>Yes</td>\n",
              "      <td>Electronic check</td>\n",
              "      <td>29.85</td>\n",
              "      <td>29.85</td>\n",
              "      <td>No</td>\n",
              "    </tr>\n",
              "    <tr>\n",
              "      <th>1</th>\n",
              "      <td>Male</td>\n",
              "      <td>0</td>\n",
              "      <td>No</td>\n",
              "      <td>No</td>\n",
              "      <td>34</td>\n",
              "      <td>Yes</td>\n",
              "      <td>No</td>\n",
              "      <td>DSL</td>\n",
              "      <td>Yes</td>\n",
              "      <td>No</td>\n",
              "      <td>Yes</td>\n",
              "      <td>No</td>\n",
              "      <td>No</td>\n",
              "      <td>No</td>\n",
              "      <td>One year</td>\n",
              "      <td>No</td>\n",
              "      <td>Mailed check</td>\n",
              "      <td>56.95</td>\n",
              "      <td>1889.50</td>\n",
              "      <td>No</td>\n",
              "    </tr>\n",
              "    <tr>\n",
              "      <th>2</th>\n",
              "      <td>Male</td>\n",
              "      <td>0</td>\n",
              "      <td>No</td>\n",
              "      <td>No</td>\n",
              "      <td>2</td>\n",
              "      <td>Yes</td>\n",
              "      <td>No</td>\n",
              "      <td>DSL</td>\n",
              "      <td>Yes</td>\n",
              "      <td>Yes</td>\n",
              "      <td>No</td>\n",
              "      <td>No</td>\n",
              "      <td>No</td>\n",
              "      <td>No</td>\n",
              "      <td>Month-to-month</td>\n",
              "      <td>Yes</td>\n",
              "      <td>Mailed check</td>\n",
              "      <td>53.85</td>\n",
              "      <td>108.15</td>\n",
              "      <td>Yes</td>\n",
              "    </tr>\n",
              "    <tr>\n",
              "      <th>3</th>\n",
              "      <td>Male</td>\n",
              "      <td>0</td>\n",
              "      <td>No</td>\n",
              "      <td>No</td>\n",
              "      <td>45</td>\n",
              "      <td>No</td>\n",
              "      <td>No phone service</td>\n",
              "      <td>DSL</td>\n",
              "      <td>Yes</td>\n",
              "      <td>No</td>\n",
              "      <td>Yes</td>\n",
              "      <td>Yes</td>\n",
              "      <td>No</td>\n",
              "      <td>No</td>\n",
              "      <td>One year</td>\n",
              "      <td>No</td>\n",
              "      <td>Bank transfer (automatic)</td>\n",
              "      <td>42.30</td>\n",
              "      <td>1840.75</td>\n",
              "      <td>No</td>\n",
              "    </tr>\n",
              "    <tr>\n",
              "      <th>4</th>\n",
              "      <td>Female</td>\n",
              "      <td>0</td>\n",
              "      <td>No</td>\n",
              "      <td>No</td>\n",
              "      <td>2</td>\n",
              "      <td>Yes</td>\n",
              "      <td>No</td>\n",
              "      <td>Fiber optic</td>\n",
              "      <td>No</td>\n",
              "      <td>No</td>\n",
              "      <td>No</td>\n",
              "      <td>No</td>\n",
              "      <td>No</td>\n",
              "      <td>No</td>\n",
              "      <td>Month-to-month</td>\n",
              "      <td>Yes</td>\n",
              "      <td>Electronic check</td>\n",
              "      <td>70.70</td>\n",
              "      <td>151.65</td>\n",
              "      <td>Yes</td>\n",
              "    </tr>\n",
              "  </tbody>\n",
              "</table>\n",
              "</div>\n",
              "      <button class=\"colab-df-convert\" onclick=\"convertToInteractive('df-98179879-a858-4338-bf99-af4b1bed1958')\"\n",
              "              title=\"Convert this dataframe to an interactive table.\"\n",
              "              style=\"display:none;\">\n",
              "\n",
              "  <svg xmlns=\"http://www.w3.org/2000/svg\" height=\"24px\"viewBox=\"0 0 24 24\"\n",
              "       width=\"24px\">\n",
              "    <path d=\"M0 0h24v24H0V0z\" fill=\"none\"/>\n",
              "    <path d=\"M18.56 5.44l.94 2.06.94-2.06 2.06-.94-2.06-.94-.94-2.06-.94 2.06-2.06.94zm-11 1L8.5 8.5l.94-2.06 2.06-.94-2.06-.94L8.5 2.5l-.94 2.06-2.06.94zm10 10l.94 2.06.94-2.06 2.06-.94-2.06-.94-.94-2.06-.94 2.06-2.06.94z\"/><path d=\"M17.41 7.96l-1.37-1.37c-.4-.4-.92-.59-1.43-.59-.52 0-1.04.2-1.43.59L10.3 9.45l-7.72 7.72c-.78.78-.78 2.05 0 2.83L4 21.41c.39.39.9.59 1.41.59.51 0 1.02-.2 1.41-.59l7.78-7.78 2.81-2.81c.8-.78.8-2.07 0-2.86zM5.41 20L4 18.59l7.72-7.72 1.47 1.35L5.41 20z\"/>\n",
              "  </svg>\n",
              "      </button>\n",
              "\n",
              "\n",
              "\n",
              "    <div id=\"df-fd706803-0e6b-47c2-9cc1-bc05d455aa09\">\n",
              "      <button class=\"colab-df-quickchart\" onclick=\"quickchart('df-fd706803-0e6b-47c2-9cc1-bc05d455aa09')\"\n",
              "              title=\"Suggest charts.\"\n",
              "              style=\"display:none;\">\n",
              "\n",
              "<svg xmlns=\"http://www.w3.org/2000/svg\" height=\"24px\"viewBox=\"0 0 24 24\"\n",
              "     width=\"24px\">\n",
              "    <g>\n",
              "        <path d=\"M19 3H5c-1.1 0-2 .9-2 2v14c0 1.1.9 2 2 2h14c1.1 0 2-.9 2-2V5c0-1.1-.9-2-2-2zM9 17H7v-7h2v7zm4 0h-2V7h2v10zm4 0h-2v-4h2v4z\"/>\n",
              "    </g>\n",
              "</svg>\n",
              "      </button>\n",
              "    </div>\n",
              "\n",
              "<style>\n",
              "  .colab-df-quickchart {\n",
              "    background-color: #E8F0FE;\n",
              "    border: none;\n",
              "    border-radius: 50%;\n",
              "    cursor: pointer;\n",
              "    display: none;\n",
              "    fill: #1967D2;\n",
              "    height: 32px;\n",
              "    padding: 0 0 0 0;\n",
              "    width: 32px;\n",
              "  }\n",
              "\n",
              "  .colab-df-quickchart:hover {\n",
              "    background-color: #E2EBFA;\n",
              "    box-shadow: 0px 1px 2px rgba(60, 64, 67, 0.3), 0px 1px 3px 1px rgba(60, 64, 67, 0.15);\n",
              "    fill: #174EA6;\n",
              "  }\n",
              "\n",
              "  [theme=dark] .colab-df-quickchart {\n",
              "    background-color: #3B4455;\n",
              "    fill: #D2E3FC;\n",
              "  }\n",
              "\n",
              "  [theme=dark] .colab-df-quickchart:hover {\n",
              "    background-color: #434B5C;\n",
              "    box-shadow: 0px 1px 3px 1px rgba(0, 0, 0, 0.15);\n",
              "    filter: drop-shadow(0px 1px 2px rgba(0, 0, 0, 0.3));\n",
              "    fill: #FFFFFF;\n",
              "  }\n",
              "</style>\n",
              "\n",
              "    <script>\n",
              "      async function quickchart(key) {\n",
              "        const containerElement = document.querySelector('#' + key);\n",
              "        const charts = await google.colab.kernel.invokeFunction(\n",
              "            'suggestCharts', [key], {});\n",
              "      }\n",
              "    </script>\n",
              "\n",
              "      <script>\n",
              "\n",
              "function displayQuickchartButton(domScope) {\n",
              "  let quickchartButtonEl =\n",
              "    domScope.querySelector('#df-fd706803-0e6b-47c2-9cc1-bc05d455aa09 button.colab-df-quickchart');\n",
              "  quickchartButtonEl.style.display =\n",
              "    google.colab.kernel.accessAllowed ? 'block' : 'none';\n",
              "}\n",
              "\n",
              "        displayQuickchartButton(document);\n",
              "      </script>\n",
              "      <style>\n",
              "    .colab-df-container {\n",
              "      display:flex;\n",
              "      flex-wrap:wrap;\n",
              "      gap: 12px;\n",
              "    }\n",
              "\n",
              "    .colab-df-convert {\n",
              "      background-color: #E8F0FE;\n",
              "      border: none;\n",
              "      border-radius: 50%;\n",
              "      cursor: pointer;\n",
              "      display: none;\n",
              "      fill: #1967D2;\n",
              "      height: 32px;\n",
              "      padding: 0 0 0 0;\n",
              "      width: 32px;\n",
              "    }\n",
              "\n",
              "    .colab-df-convert:hover {\n",
              "      background-color: #E2EBFA;\n",
              "      box-shadow: 0px 1px 2px rgba(60, 64, 67, 0.3), 0px 1px 3px 1px rgba(60, 64, 67, 0.15);\n",
              "      fill: #174EA6;\n",
              "    }\n",
              "\n",
              "    [theme=dark] .colab-df-convert {\n",
              "      background-color: #3B4455;\n",
              "      fill: #D2E3FC;\n",
              "    }\n",
              "\n",
              "    [theme=dark] .colab-df-convert:hover {\n",
              "      background-color: #434B5C;\n",
              "      box-shadow: 0px 1px 3px 1px rgba(0, 0, 0, 0.15);\n",
              "      filter: drop-shadow(0px 1px 2px rgba(0, 0, 0, 0.3));\n",
              "      fill: #FFFFFF;\n",
              "    }\n",
              "  </style>\n",
              "\n",
              "      <script>\n",
              "        const buttonEl =\n",
              "          document.querySelector('#df-98179879-a858-4338-bf99-af4b1bed1958 button.colab-df-convert');\n",
              "        buttonEl.style.display =\n",
              "          google.colab.kernel.accessAllowed ? 'block' : 'none';\n",
              "\n",
              "        async function convertToInteractive(key) {\n",
              "          const element = document.querySelector('#df-98179879-a858-4338-bf99-af4b1bed1958');\n",
              "          const dataTable =\n",
              "            await google.colab.kernel.invokeFunction('convertToInteractive',\n",
              "                                                     [key], {});\n",
              "          if (!dataTable) return;\n",
              "\n",
              "          const docLinkHtml = 'Like what you see? Visit the ' +\n",
              "            '<a target=\"_blank\" href=https://colab.research.google.com/notebooks/data_table.ipynb>data table notebook</a>'\n",
              "            + ' to learn more about interactive tables.';\n",
              "          element.innerHTML = '';\n",
              "          dataTable['output_type'] = 'display_data';\n",
              "          await google.colab.output.renderOutput(dataTable, element);\n",
              "          const docLink = document.createElement('div');\n",
              "          docLink.innerHTML = docLinkHtml;\n",
              "          element.appendChild(docLink);\n",
              "        }\n",
              "      </script>\n",
              "    </div>\n",
              "  </div>\n"
            ]
          },
          "metadata": {},
          "execution_count": 51
        }
      ],
      "source": [
        "data.head()"
      ]
    },
    {
      "cell_type": "markdown",
      "metadata": {
        "id": "falFfrPRU_Br"
      },
      "source": [
        "**checking the columns to encode the features**"
      ]
    },
    {
      "cell_type": "code",
      "execution_count": null,
      "metadata": {
        "id": "71IdrfUkU-kY"
      },
      "outputs": [],
      "source": [
        "def print_types(data):\n",
        "  for column in data:\n",
        "    if data[column].dtypes==object:\n",
        "      print(f'{column}:{data[column].unique()}')"
      ]
    },
    {
      "cell_type": "code",
      "execution_count": null,
      "metadata": {
        "colab": {
          "base_uri": "https://localhost:8080/"
        },
        "id": "BSAM42YSYHSE",
        "outputId": "2757379f-cc2d-4276-807f-998521a29f82"
      },
      "outputs": [
        {
          "output_type": "stream",
          "name": "stdout",
          "text": [
            "gender:['Female' 'Male']\n",
            "Partner:['Yes' 'No']\n",
            "Dependents:['No' 'Yes']\n",
            "PhoneService:['No' 'Yes']\n",
            "MultipleLines:['No phone service' 'No' 'Yes']\n",
            "InternetService:['DSL' 'Fiber optic' 'No']\n",
            "OnlineSecurity:['No' 'Yes' 'No internet service']\n",
            "OnlineBackup:['Yes' 'No' 'No internet service']\n",
            "DeviceProtection:['No' 'Yes' 'No internet service']\n",
            "TechSupport:['No' 'Yes' 'No internet service']\n",
            "StreamingTV:['No' 'Yes' 'No internet service']\n",
            "StreamingMovies:['No' 'Yes' 'No internet service']\n",
            "Contract:['Month-to-month' 'One year' 'Two year']\n",
            "PaperlessBilling:['Yes' 'No']\n",
            "PaymentMethod:['Electronic check' 'Mailed check' 'Bank transfer (automatic)'\n",
            " 'Credit card (automatic)']\n",
            "Churn:['No' 'Yes']\n"
          ]
        }
      ],
      "source": [
        "print_types(data)"
      ]
    },
    {
      "cell_type": "markdown",
      "source": [
        "**replacing \"No internet service\" and \"No phone service\" with a no in the dataset**"
      ],
      "metadata": {
        "id": "nLW7tJsszVHs"
      }
    },
    {
      "cell_type": "code",
      "execution_count": null,
      "metadata": {
        "id": "vUDLghSHXLI7"
      },
      "outputs": [],
      "source": [
        "data.replace(\"No internet service\",\"No\",inplace=True)\n",
        "data.replace(\"No phone service\",\"No\",inplace=True)"
      ]
    },
    {
      "cell_type": "markdown",
      "source": [
        "**going to loop in our dataset and replace every \"yes\" and \"no\" with 1 and 0. This is a crucial step in the data cleaning process as a learning algorithm only understands numbers**"
      ],
      "metadata": {
        "id": "bf5pcCsmzh5e"
      }
    },
    {
      "cell_type": "code",
      "execution_count": null,
      "metadata": {
        "id": "KpYjHisOaHiN"
      },
      "outputs": [],
      "source": [
        "yes_no_columns = ['Partner','Dependents','PhoneService','MultipleLines','OnlineSecurity','OnlineBackup',\n",
        "                  'DeviceProtection','TechSupport','StreamingTV','StreamingMovies','PaperlessBilling','Churn']\n",
        "for col in yes_no_columns:\n",
        "    data[col].replace({'Yes': 1,'No': 0},inplace=True)"
      ]
    },
    {
      "cell_type": "code",
      "execution_count": null,
      "metadata": {
        "colab": {
          "base_uri": "https://localhost:8080/"
        },
        "id": "wA6osexGaKo8",
        "outputId": "a8f3a3be-0d5b-4f4d-8121-8a98941cdb90"
      },
      "outputs": [
        {
          "output_type": "stream",
          "name": "stdout",
          "text": [
            "gender:['Female' 'Male']\n",
            "InternetService:['DSL' 'Fiber optic' 'No']\n",
            "Contract:['Month-to-month' 'One year' 'Two year']\n",
            "PaymentMethod:['Electronic check' 'Mailed check' 'Bank transfer (automatic)'\n",
            " 'Credit card (automatic)']\n"
          ]
        }
      ],
      "source": [
        "print_types(data)"
      ]
    },
    {
      "cell_type": "markdown",
      "source": [
        "**doing the same thing for the gender feature**"
      ],
      "metadata": {
        "id": "t7_0sAmxz0Rz"
      }
    },
    {
      "cell_type": "code",
      "execution_count": null,
      "metadata": {
        "id": "VsGmb3DeaRIq"
      },
      "outputs": [],
      "source": [
        "data['gender'].replace({'Female':1,'Male':0},inplace=True)"
      ]
    },
    {
      "cell_type": "code",
      "execution_count": null,
      "metadata": {
        "colab": {
          "base_uri": "https://localhost:8080/"
        },
        "id": "Nj8xAsy6allA",
        "outputId": "0d9446f5-a6c3-47d1-f972-3936567b40f2"
      },
      "outputs": [
        {
          "output_type": "execute_result",
          "data": {
            "text/plain": [
              "0         29.85\n",
              "1       1889.50\n",
              "2        108.15\n",
              "3       1840.75\n",
              "4        151.65\n",
              "         ...   \n",
              "7038    1990.50\n",
              "7039    7362.90\n",
              "7040     346.45\n",
              "7041     306.60\n",
              "7042    6844.50\n",
              "Name: TotalCharges, Length: 7032, dtype: float64"
            ]
          },
          "metadata": {},
          "execution_count": 58
        }
      ],
      "source": [
        "pd.to_numeric(data.TotalCharges)"
      ]
    },
    {
      "cell_type": "markdown",
      "source": [
        "**looking at the remaining non numerical features**"
      ],
      "metadata": {
        "id": "cEJF37dTz6tA"
      }
    },
    {
      "cell_type": "code",
      "execution_count": null,
      "metadata": {
        "colab": {
          "base_uri": "https://localhost:8080/"
        },
        "id": "CrQEa50kasTG",
        "outputId": "711bb85e-adbd-483b-b405-de38e273d1eb"
      },
      "outputs": [
        {
          "output_type": "stream",
          "name": "stdout",
          "text": [
            "InternetService:['DSL' 'Fiber optic' 'No']\n",
            "Contract:['Month-to-month' 'One year' 'Two year']\n",
            "PaymentMethod:['Electronic check' 'Mailed check' 'Bank transfer (automatic)'\n",
            " 'Credit card (automatic)']\n"
          ]
        }
      ],
      "source": [
        "print_types(data)"
      ]
    },
    {
      "cell_type": "markdown",
      "source": [
        "**we have to do one hot encoding for categorical values**"
      ],
      "metadata": {
        "id": "n60xTZ4OBMjH"
      }
    },
    {
      "cell_type": "code",
      "source": [
        "data2 = pd.get_dummies(data=data, columns=['InternetService','Contract','PaymentMethod'])\n",
        "data2.columns"
      ],
      "metadata": {
        "colab": {
          "base_uri": "https://localhost:8080/"
        },
        "id": "x97xg7xBBSaT",
        "outputId": "eb71e8dc-6cfa-477f-9590-aa0fdb7aeb28"
      },
      "execution_count": null,
      "outputs": [
        {
          "output_type": "execute_result",
          "data": {
            "text/plain": [
              "Index(['gender', 'SeniorCitizen', 'Partner', 'Dependents', 'tenure',\n",
              "       'PhoneService', 'MultipleLines', 'OnlineSecurity', 'OnlineBackup',\n",
              "       'DeviceProtection', 'TechSupport', 'StreamingTV', 'StreamingMovies',\n",
              "       'PaperlessBilling', 'MonthlyCharges', 'TotalCharges', 'Churn',\n",
              "       'InternetService_DSL', 'InternetService_Fiber optic',\n",
              "       'InternetService_No', 'Contract_Month-to-month', 'Contract_One year',\n",
              "       'Contract_Two year', 'PaymentMethod_Bank transfer (automatic)',\n",
              "       'PaymentMethod_Credit card (automatic)',\n",
              "       'PaymentMethod_Electronic check', 'PaymentMethod_Mailed check'],\n",
              "      dtype='object')"
            ]
          },
          "metadata": {},
          "execution_count": 60
        }
      ]
    },
    {
      "cell_type": "code",
      "source": [
        "data2.dtypes"
      ],
      "metadata": {
        "colab": {
          "base_uri": "https://localhost:8080/"
        },
        "id": "sohkHmdaBdJL",
        "outputId": "80148635-60b8-49c8-b9a0-133b074929d3"
      },
      "execution_count": null,
      "outputs": [
        {
          "output_type": "execute_result",
          "data": {
            "text/plain": [
              "gender                                       int64\n",
              "SeniorCitizen                                int64\n",
              "Partner                                      int64\n",
              "Dependents                                   int64\n",
              "tenure                                       int64\n",
              "PhoneService                                 int64\n",
              "MultipleLines                                int64\n",
              "OnlineSecurity                               int64\n",
              "OnlineBackup                                 int64\n",
              "DeviceProtection                             int64\n",
              "TechSupport                                  int64\n",
              "StreamingTV                                  int64\n",
              "StreamingMovies                              int64\n",
              "PaperlessBilling                             int64\n",
              "MonthlyCharges                             float64\n",
              "TotalCharges                               float64\n",
              "Churn                                        int64\n",
              "InternetService_DSL                          uint8\n",
              "InternetService_Fiber optic                  uint8\n",
              "InternetService_No                           uint8\n",
              "Contract_Month-to-month                      uint8\n",
              "Contract_One year                            uint8\n",
              "Contract_Two year                            uint8\n",
              "PaymentMethod_Bank transfer (automatic)      uint8\n",
              "PaymentMethod_Credit card (automatic)        uint8\n",
              "PaymentMethod_Electronic check               uint8\n",
              "PaymentMethod_Mailed check                   uint8\n",
              "dtype: object"
            ]
          },
          "metadata": {},
          "execution_count": 61
        }
      ]
    },
    {
      "cell_type": "markdown",
      "source": [
        "**All the columns are now numerical**"
      ],
      "metadata": {
        "id": "Iii3PngmCDBl"
      }
    },
    {
      "cell_type": "markdown",
      "source": [
        "**moving on to scaling the features.**\n",
        "\n",
        "**Scaling values in a dataset helps:\n",
        "-Prevent bias and ensure equal feature contribution.\n",
        "-Accelerate convergence of optimization algorithms.\n",
        "-Improve performance, interpretability, and visualization of models**"
      ],
      "metadata": {
        "id": "hseueCKaCeY7"
      }
    },
    {
      "cell_type": "code",
      "source": [
        "cols_to_scale = ['tenure','MonthlyCharges','TotalCharges']\n",
        "\n",
        "from sklearn.preprocessing import MinMaxScaler\n",
        "scaler = MinMaxScaler()\n",
        "data2[cols_to_scale] = scaler.fit_transform(data2[cols_to_scale])"
      ],
      "metadata": {
        "id": "30kDdm60CJdE"
      },
      "execution_count": null,
      "outputs": []
    },
    {
      "cell_type": "code",
      "source": [
        "for col in data2:\n",
        "    print(f'{col}: {data2[col].unique()}')"
      ],
      "metadata": {
        "colab": {
          "base_uri": "https://localhost:8080/"
        },
        "id": "F5ZSG9WVC5pr",
        "outputId": "7b0ccfb0-4b22-4ff3-e042-85a698fe28ce"
      },
      "execution_count": null,
      "outputs": [
        {
          "output_type": "stream",
          "name": "stdout",
          "text": [
            "gender: [1 0]\n",
            "SeniorCitizen: [0 1]\n",
            "Partner: [1 0]\n",
            "Dependents: [0 1]\n",
            "tenure: [0.         0.46478873 0.01408451 0.61971831 0.09859155 0.29577465\n",
            " 0.12676056 0.38028169 0.85915493 0.16901408 0.21126761 0.8028169\n",
            " 0.67605634 0.33802817 0.95774648 0.71830986 0.98591549 0.28169014\n",
            " 0.15492958 0.4084507  0.64788732 1.         0.22535211 0.36619718\n",
            " 0.05633803 0.63380282 0.14084507 0.97183099 0.87323944 0.5915493\n",
            " 0.1971831  0.83098592 0.23943662 0.91549296 0.11267606 0.02816901\n",
            " 0.42253521 0.69014085 0.88732394 0.77464789 0.08450704 0.57746479\n",
            " 0.47887324 0.66197183 0.3943662  0.90140845 0.52112676 0.94366197\n",
            " 0.43661972 0.76056338 0.50704225 0.49295775 0.56338028 0.07042254\n",
            " 0.04225352 0.45070423 0.92957746 0.30985915 0.78873239 0.84507042\n",
            " 0.18309859 0.26760563 0.73239437 0.54929577 0.81690141 0.32394366\n",
            " 0.6056338  0.25352113 0.74647887 0.70422535 0.35211268 0.53521127]\n",
            "PhoneService: [0 1]\n",
            "MultipleLines: [0 1]\n",
            "OnlineSecurity: [0 1]\n",
            "OnlineBackup: [1 0]\n",
            "DeviceProtection: [0 1]\n",
            "TechSupport: [0 1]\n",
            "StreamingTV: [0 1]\n",
            "StreamingMovies: [0 1]\n",
            "PaperlessBilling: [1 0]\n",
            "MonthlyCharges: [0.11542289 0.38507463 0.35422886 ... 0.44626866 0.25820896 0.60149254]\n",
            "TotalCharges: [0.0012751  0.21586661 0.01031041 ... 0.03780868 0.03321025 0.78764136]\n",
            "Churn: [0 1]\n",
            "InternetService_DSL: [1 0]\n",
            "InternetService_Fiber optic: [0 1]\n",
            "InternetService_No: [0 1]\n",
            "Contract_Month-to-month: [1 0]\n",
            "Contract_One year: [0 1]\n",
            "Contract_Two year: [0 1]\n",
            "PaymentMethod_Bank transfer (automatic): [0 1]\n",
            "PaymentMethod_Credit card (automatic): [0 1]\n",
            "PaymentMethod_Electronic check: [1 0]\n",
            "PaymentMethod_Mailed check: [0 1]\n"
          ]
        }
      ]
    },
    {
      "cell_type": "code",
      "source": [
        "X=data2.drop(\"Churn\",axis=1)\n",
        "y=data2[\"Churn\"]"
      ],
      "metadata": {
        "id": "dhtPfQYmGPTT"
      },
      "execution_count": null,
      "outputs": []
    },
    {
      "cell_type": "code",
      "source": [
        "\n",
        "# Count the number of occurrences of 0 and 1 in the 'Churn' column\n",
        "value_counts =y.value_counts()\n",
        "\n",
        "# Print the count of 0 and 1\n",
        "print(value_counts)\n"
      ],
      "metadata": {
        "colab": {
          "base_uri": "https://localhost:8080/"
        },
        "id": "78J5uBq6DWy2",
        "outputId": "3fb041c8-d713-417f-89eb-6bbfdf65bb59"
      },
      "execution_count": null,
      "outputs": [
        {
          "output_type": "stream",
          "name": "stdout",
          "text": [
            "0    5163\n",
            "1    1869\n",
            "Name: Churn, dtype: int64\n"
          ]
        }
      ]
    },
    {
      "cell_type": "markdown",
      "source": [
        "We observe that our dataset is imbalanced. This is referred to as a skewed dataset.Skewness refers to the lack of balance or symmetry in the distribution of values. In the context of classification tasks, an imbalanced dataset typically means that one class is significantly more prevalent than the other. In this case, the class labeled as 0 has a much higher count compared to the class labeled as 1.\n",
        "\n",
        "Imbalanced datasets can pose challenges for machine learning models, as they may have a bias towards the majority class and struggle to accurately predict the minority class."
      ],
      "metadata": {
        "id": "_PEU6TARDn8i"
      }
    },
    {
      "cell_type": "markdown",
      "source": [
        "**going to apply the Synthetic Minority Over-sampling Technique (SMOTE) to address class imbalance in our dataset**"
      ],
      "metadata": {
        "id": "N61eGeBQD6QB"
      }
    },
    {
      "cell_type": "code",
      "source": [
        "\n",
        "from imblearn.over_sampling import SMOTE\n",
        "# Apply SMOTE\n",
        "smote = SMOTE()\n",
        "X_resampled, y_resampled = smote.fit_resample(X, y)\n",
        "# Print the counts of the resampled target variable\n",
        "print(pd.Series(y_resampled).value_counts())\n"
      ],
      "metadata": {
        "colab": {
          "base_uri": "https://localhost:8080/"
        },
        "id": "9LmkRicqD2C5",
        "outputId": "a2c0c43a-e228-483d-9867-f11a6e104c2c"
      },
      "execution_count": null,
      "outputs": [
        {
          "output_type": "stream",
          "name": "stdout",
          "text": [
            "0    5163\n",
            "1    5163\n",
            "Name: Churn, dtype: int64\n"
          ]
        }
      ]
    },
    {
      "cell_type": "markdown",
      "source": [
        "**moving on to some feature engineering.Recursive feature elimination (RFE) is a feature selection method that recursively eliminates less important features from the dataset. It starts by training a model on the original set of features, ranks the features based on their importance, and eliminates the least important feature(s). This process is repeated iteratively until a desired number of features remains.**"
      ],
      "metadata": {
        "id": "_OuvMBGQEue3"
      }
    },
    {
      "cell_type": "code",
      "source": [
        "\n",
        "from sklearn.feature_selection import RFE\n",
        "from sklearn.linear_model import LogisticRegression\n",
        "\n",
        "# Create an estimator for feature ranking with increased max_iter\n",
        "estimator = LogisticRegression(max_iter=1000)\n",
        "\n",
        "# Create RFE object and specify the desired number of features to select\n",
        "rfe = RFE(estimator, n_features_to_select=20)\n",
        "\n",
        "# Fit RFE to the resampled data\n",
        "rfe.fit(X_resampled, y_resampled)\n",
        "\n",
        "# Print the rankings of the features\n",
        "feature_rankings = pd.DataFrame({'Feature': X_resampled.columns, 'Ranking': rfe.ranking_})\n",
        "print(feature_rankings)\n"
      ],
      "metadata": {
        "colab": {
          "base_uri": "https://localhost:8080/"
        },
        "id": "98qT2vblE7VS",
        "outputId": "d2df8430-7f09-443c-b6f0-275aacd119c5"
      },
      "execution_count": null,
      "outputs": [
        {
          "output_type": "stream",
          "name": "stdout",
          "text": [
            "                                    Feature  Ranking\n",
            "0                                    gender        6\n",
            "1                             SeniorCitizen        7\n",
            "2                                   Partner        5\n",
            "3                                Dependents        3\n",
            "4                                    tenure        1\n",
            "5                              PhoneService        1\n",
            "6                             MultipleLines        2\n",
            "7                            OnlineSecurity        1\n",
            "8                              OnlineBackup        1\n",
            "9                          DeviceProtection        1\n",
            "10                              TechSupport        1\n",
            "11                              StreamingTV        1\n",
            "12                          StreamingMovies        1\n",
            "13                         PaperlessBilling        4\n",
            "14                           MonthlyCharges        1\n",
            "15                             TotalCharges        1\n",
            "16                      InternetService_DSL        1\n",
            "17              InternetService_Fiber optic        1\n",
            "18                       InternetService_No        1\n",
            "19                  Contract_Month-to-month        1\n",
            "20                        Contract_One year        1\n",
            "21                        Contract_Two year        1\n",
            "22  PaymentMethod_Bank transfer (automatic)        1\n",
            "23    PaymentMethod_Credit card (automatic)        1\n",
            "24           PaymentMethod_Electronic check        1\n",
            "25               PaymentMethod_Mailed check        1\n"
          ]
        }
      ]
    },
    {
      "cell_type": "markdown",
      "source": [
        "**As we observe, SeniorCitizen,Partner and PaperlessBilling are ranked high which means they have less importance in our dataset. However, we are going to ignore the feature ranking for now, train our dataset on the totality of the features, then train an other model based ont the feature ranking and compare the results**"
      ],
      "metadata": {
        "id": "_eczyh7FFJVY"
      }
    },
    {
      "cell_type": "code",
      "source": [
        "from sklearn.model_selection import train_test_split\n",
        "\n",
        "# Split the data into training and testing sets\n",
        "X_train, X_test, y_train, y_test = train_test_split(X_resampled, y_resampled, test_size=0.2, random_state=42)\n",
        "\n",
        "# Print the shape of the training and testing sets\n",
        "print(\"X_train shape:\", X_train.shape)\n",
        "print(\"y_train shape:\", y_train.shape)\n",
        "print(\"X_test shape:\", X_test.shape)\n",
        "print(\"y_test shape:\", y_test.shape)\n"
      ],
      "metadata": {
        "colab": {
          "base_uri": "https://localhost:8080/"
        },
        "id": "QiFm9VHFFmaE",
        "outputId": "0b5d0231-968e-4d2a-8e2c-54a6a5a0cac4"
      },
      "execution_count": null,
      "outputs": [
        {
          "output_type": "stream",
          "name": "stdout",
          "text": [
            "X_train shape: (8260, 26)\n",
            "y_train shape: (8260,)\n",
            "X_test shape: (2066, 26)\n",
            "y_test shape: (2066,)\n"
          ]
        }
      ]
    },
    {
      "cell_type": "markdown",
      "source": [
        "**building the ANN using the sequential api**"
      ],
      "metadata": {
        "id": "Q-9ZTvy229n9"
      }
    },
    {
      "cell_type": "code",
      "source": [
        "import numpy as np\n",
        "from sklearn.model_selection import train_test_split\n",
        "from sklearn.metrics import precision_score, recall_score, f1_score\n",
        "from keras.models import Sequential\n",
        "from keras.layers import Dense\n",
        "# Create the ANN model\n",
        "model = Sequential()\n",
        "model.add(Dense(64, input_shape=(X_train.shape[1],), activation='relu'))\n",
        "model.add(Dense(64, activation='relu'))\n",
        "model.add(Dense(32, activation='relu'))\n",
        "model.add(Dense(1, activation='sigmoid'))\n",
        "\n",
        "# Compile the model\n",
        "model.compile(loss='binary_crossentropy', optimizer='adam', metrics=['accuracy'])\n",
        "\n",
        "# Train the model\n",
        "model.fit(X_train, y_train, batch_size=32, epochs=100, verbose=1)\n",
        "\n",
        "# Predict on the test set\n",
        "y_pred = model.predict(X_test)\n",
        "y_pred_binary = np.round(y_pred)  # Convert probabilities to binary predictions (0 or 1)\n",
        "\n",
        "# Calculate precision, recall, and F1 score\n",
        "loss, accuracy = model.evaluate(X_test, y_test)\n",
        "precision = precision_score(y_test, y_pred_binary)\n",
        "recall = recall_score(y_test, y_pred_binary)\n",
        "f1 = f1_score(y_test, y_pred_binary)\n",
        "print(\"Test Loss:\", loss)\n",
        "print(\"Test Accuracy:\", accuracy)\n",
        "print(\"Precision:\", precision)\n",
        "print(\"Recall:\", recall)\n",
        "print(\"F1 Score:\", f1)\n"
      ],
      "metadata": {
        "colab": {
          "base_uri": "https://localhost:8080/"
        },
        "id": "uLyxRh4mLGta",
        "outputId": "0a9456f2-3395-4bdb-a02e-7497b4d36263"
      },
      "execution_count": null,
      "outputs": [
        {
          "output_type": "stream",
          "name": "stdout",
          "text": [
            "Epoch 1/100\n",
            "259/259 [==============================] - 2s 2ms/step - loss: 0.5021 - accuracy: 0.7633\n",
            "Epoch 2/100\n",
            "259/259 [==============================] - 1s 2ms/step - loss: 0.4587 - accuracy: 0.7811\n",
            "Epoch 3/100\n",
            "259/259 [==============================] - 1s 4ms/step - loss: 0.4452 - accuracy: 0.7858\n",
            "Epoch 4/100\n",
            "259/259 [==============================] - 1s 3ms/step - loss: 0.4328 - accuracy: 0.7965\n",
            "Epoch 5/100\n",
            "259/259 [==============================] - 1s 4ms/step - loss: 0.4217 - accuracy: 0.8018\n",
            "Epoch 6/100\n",
            "259/259 [==============================] - 1s 3ms/step - loss: 0.4115 - accuracy: 0.8076\n",
            "Epoch 7/100\n",
            "259/259 [==============================] - 1s 3ms/step - loss: 0.4043 - accuracy: 0.8126\n",
            "Epoch 8/100\n",
            "259/259 [==============================] - 1s 2ms/step - loss: 0.3959 - accuracy: 0.8178\n",
            "Epoch 9/100\n",
            "259/259 [==============================] - 1s 2ms/step - loss: 0.3874 - accuracy: 0.8232\n",
            "Epoch 10/100\n",
            "259/259 [==============================] - 1s 2ms/step - loss: 0.3795 - accuracy: 0.8252\n",
            "Epoch 11/100\n",
            "259/259 [==============================] - 1s 2ms/step - loss: 0.3715 - accuracy: 0.8326\n",
            "Epoch 12/100\n",
            "259/259 [==============================] - 1s 2ms/step - loss: 0.3654 - accuracy: 0.8343\n",
            "Epoch 13/100\n",
            "259/259 [==============================] - 1s 2ms/step - loss: 0.3568 - accuracy: 0.8391\n",
            "Epoch 14/100\n",
            "259/259 [==============================] - 1s 2ms/step - loss: 0.3531 - accuracy: 0.8443\n",
            "Epoch 15/100\n",
            "259/259 [==============================] - 1s 2ms/step - loss: 0.3465 - accuracy: 0.8452\n",
            "Epoch 16/100\n",
            "259/259 [==============================] - 1s 3ms/step - loss: 0.3406 - accuracy: 0.8488\n",
            "Epoch 17/100\n",
            "259/259 [==============================] - 1s 2ms/step - loss: 0.3378 - accuracy: 0.8494\n",
            "Epoch 18/100\n",
            "259/259 [==============================] - 1s 2ms/step - loss: 0.3311 - accuracy: 0.8544\n",
            "Epoch 19/100\n",
            "259/259 [==============================] - 1s 2ms/step - loss: 0.3248 - accuracy: 0.8582\n",
            "Epoch 20/100\n",
            "259/259 [==============================] - 1s 2ms/step - loss: 0.3194 - accuracy: 0.8626\n",
            "Epoch 21/100\n",
            "259/259 [==============================] - 1s 2ms/step - loss: 0.3189 - accuracy: 0.8609\n",
            "Epoch 22/100\n",
            "259/259 [==============================] - 1s 2ms/step - loss: 0.3121 - accuracy: 0.8649\n",
            "Epoch 23/100\n",
            "259/259 [==============================] - 1s 2ms/step - loss: 0.3082 - accuracy: 0.8667\n",
            "Epoch 24/100\n",
            "259/259 [==============================] - 1s 4ms/step - loss: 0.3014 - accuracy: 0.8694\n",
            "Epoch 25/100\n",
            "259/259 [==============================] - 1s 4ms/step - loss: 0.2972 - accuracy: 0.8715\n",
            "Epoch 26/100\n",
            "259/259 [==============================] - 1s 3ms/step - loss: 0.2993 - accuracy: 0.8700\n",
            "Epoch 27/100\n",
            "259/259 [==============================] - 1s 4ms/step - loss: 0.2920 - accuracy: 0.8732\n",
            "Epoch 28/100\n",
            "259/259 [==============================] - 1s 3ms/step - loss: 0.2841 - accuracy: 0.8763\n",
            "Epoch 29/100\n",
            "259/259 [==============================] - 1s 2ms/step - loss: 0.2871 - accuracy: 0.8740\n",
            "Epoch 30/100\n",
            "259/259 [==============================] - 1s 2ms/step - loss: 0.2826 - accuracy: 0.8771\n",
            "Epoch 31/100\n",
            "259/259 [==============================] - 1s 2ms/step - loss: 0.2784 - accuracy: 0.8816\n",
            "Epoch 32/100\n",
            "259/259 [==============================] - 1s 2ms/step - loss: 0.2704 - accuracy: 0.8831\n",
            "Epoch 33/100\n",
            "259/259 [==============================] - 1s 2ms/step - loss: 0.2682 - accuracy: 0.8872\n",
            "Epoch 34/100\n",
            "259/259 [==============================] - 1s 2ms/step - loss: 0.2663 - accuracy: 0.8850\n",
            "Epoch 35/100\n",
            "259/259 [==============================] - 1s 2ms/step - loss: 0.2620 - accuracy: 0.8851\n",
            "Epoch 36/100\n",
            "259/259 [==============================] - 1s 2ms/step - loss: 0.2613 - accuracy: 0.8855\n",
            "Epoch 37/100\n",
            "259/259 [==============================] - 1s 2ms/step - loss: 0.2589 - accuracy: 0.8887\n",
            "Epoch 38/100\n",
            "259/259 [==============================] - 1s 2ms/step - loss: 0.2511 - accuracy: 0.8891\n",
            "Epoch 39/100\n",
            "259/259 [==============================] - 1s 2ms/step - loss: 0.2506 - accuracy: 0.8907\n",
            "Epoch 40/100\n",
            "259/259 [==============================] - 1s 2ms/step - loss: 0.2496 - accuracy: 0.8948\n",
            "Epoch 41/100\n",
            "259/259 [==============================] - 1s 2ms/step - loss: 0.2475 - accuracy: 0.8938\n",
            "Epoch 42/100\n",
            "259/259 [==============================] - 1s 2ms/step - loss: 0.2435 - accuracy: 0.8954\n",
            "Epoch 43/100\n",
            "259/259 [==============================] - 1s 2ms/step - loss: 0.2417 - accuracy: 0.8992\n",
            "Epoch 44/100\n",
            "259/259 [==============================] - 1s 2ms/step - loss: 0.2366 - accuracy: 0.9007\n",
            "Epoch 45/100\n",
            "259/259 [==============================] - 1s 3ms/step - loss: 0.2396 - accuracy: 0.8993\n",
            "Epoch 46/100\n",
            "259/259 [==============================] - 1s 4ms/step - loss: 0.2344 - accuracy: 0.9010\n",
            "Epoch 47/100\n",
            "259/259 [==============================] - 1s 4ms/step - loss: 0.2299 - accuracy: 0.9036\n",
            "Epoch 48/100\n",
            "259/259 [==============================] - 1s 4ms/step - loss: 0.2305 - accuracy: 0.9028\n",
            "Epoch 49/100\n",
            "259/259 [==============================] - 1s 3ms/step - loss: 0.2289 - accuracy: 0.9024\n",
            "Epoch 50/100\n",
            "259/259 [==============================] - 1s 2ms/step - loss: 0.2186 - accuracy: 0.9071\n",
            "Epoch 51/100\n",
            "259/259 [==============================] - 1s 2ms/step - loss: 0.2205 - accuracy: 0.9086\n",
            "Epoch 52/100\n",
            "259/259 [==============================] - 1s 2ms/step - loss: 0.2253 - accuracy: 0.9025\n",
            "Epoch 53/100\n",
            "259/259 [==============================] - 1s 2ms/step - loss: 0.2232 - accuracy: 0.9050\n",
            "Epoch 54/100\n",
            "259/259 [==============================] - 1s 2ms/step - loss: 0.2152 - accuracy: 0.9097\n",
            "Epoch 55/100\n",
            "259/259 [==============================] - 1s 2ms/step - loss: 0.2158 - accuracy: 0.9070\n",
            "Epoch 56/100\n",
            "259/259 [==============================] - 1s 2ms/step - loss: 0.2131 - accuracy: 0.9100\n",
            "Epoch 57/100\n",
            "259/259 [==============================] - 1s 2ms/step - loss: 0.2083 - accuracy: 0.9122\n",
            "Epoch 58/100\n",
            "259/259 [==============================] - 1s 2ms/step - loss: 0.2054 - accuracy: 0.9155\n",
            "Epoch 59/100\n",
            "259/259 [==============================] - 1s 2ms/step - loss: 0.2043 - accuracy: 0.9137\n",
            "Epoch 60/100\n",
            "259/259 [==============================] - 1s 2ms/step - loss: 0.1988 - accuracy: 0.9160\n",
            "Epoch 61/100\n",
            "259/259 [==============================] - 1s 2ms/step - loss: 0.2071 - accuracy: 0.9132\n",
            "Epoch 62/100\n",
            "259/259 [==============================] - 1s 2ms/step - loss: 0.2033 - accuracy: 0.9162\n",
            "Epoch 63/100\n",
            "259/259 [==============================] - 1s 2ms/step - loss: 0.1985 - accuracy: 0.9195\n",
            "Epoch 64/100\n",
            "259/259 [==============================] - 1s 2ms/step - loss: 0.2048 - accuracy: 0.9127\n",
            "Epoch 65/100\n",
            "259/259 [==============================] - 1s 2ms/step - loss: 0.1939 - accuracy: 0.9188\n",
            "Epoch 66/100\n",
            "259/259 [==============================] - 1s 4ms/step - loss: 0.1949 - accuracy: 0.9199\n",
            "Epoch 67/100\n",
            "259/259 [==============================] - 1s 4ms/step - loss: 0.1970 - accuracy: 0.9163\n",
            "Epoch 68/100\n",
            "259/259 [==============================] - 1s 4ms/step - loss: 0.2019 - accuracy: 0.9142\n",
            "Epoch 69/100\n",
            "259/259 [==============================] - 1s 3ms/step - loss: 0.1910 - accuracy: 0.9162\n",
            "Epoch 70/100\n",
            "259/259 [==============================] - 1s 4ms/step - loss: 0.1898 - accuracy: 0.9206\n",
            "Epoch 71/100\n",
            "259/259 [==============================] - 1s 2ms/step - loss: 0.1855 - accuracy: 0.9231\n",
            "Epoch 72/100\n",
            "259/259 [==============================] - 1s 2ms/step - loss: 0.2067 - accuracy: 0.9109\n",
            "Epoch 73/100\n",
            "259/259 [==============================] - 1s 2ms/step - loss: 0.1830 - accuracy: 0.9240\n",
            "Epoch 74/100\n",
            "259/259 [==============================] - 1s 2ms/step - loss: 0.1843 - accuracy: 0.9186\n",
            "Epoch 75/100\n",
            "259/259 [==============================] - 1s 2ms/step - loss: 0.1875 - accuracy: 0.9207\n",
            "Epoch 76/100\n",
            "259/259 [==============================] - 1s 2ms/step - loss: 0.1860 - accuracy: 0.9196\n",
            "Epoch 77/100\n",
            "259/259 [==============================] - 1s 2ms/step - loss: 0.1832 - accuracy: 0.9223\n",
            "Epoch 78/100\n",
            "259/259 [==============================] - 1s 2ms/step - loss: 0.1916 - accuracy: 0.9212\n",
            "Epoch 79/100\n",
            "259/259 [==============================] - 1s 3ms/step - loss: 0.1782 - accuracy: 0.9258\n",
            "Epoch 80/100\n",
            "259/259 [==============================] - 1s 2ms/step - loss: 0.1790 - accuracy: 0.9235\n",
            "Epoch 81/100\n",
            "259/259 [==============================] - 1s 2ms/step - loss: 0.1763 - accuracy: 0.9258\n",
            "Epoch 82/100\n",
            "259/259 [==============================] - 1s 2ms/step - loss: 0.1794 - accuracy: 0.9255\n",
            "Epoch 83/100\n",
            "259/259 [==============================] - 1s 2ms/step - loss: 0.1872 - accuracy: 0.9217\n",
            "Epoch 84/100\n",
            "259/259 [==============================] - 1s 2ms/step - loss: 0.1756 - accuracy: 0.9268\n",
            "Epoch 85/100\n",
            "259/259 [==============================] - 1s 2ms/step - loss: 0.1723 - accuracy: 0.9272\n",
            "Epoch 86/100\n",
            "259/259 [==============================] - 1s 2ms/step - loss: 0.1730 - accuracy: 0.9260\n",
            "Epoch 87/100\n",
            "259/259 [==============================] - 1s 3ms/step - loss: 0.1701 - accuracy: 0.9285\n",
            "Epoch 88/100\n",
            "259/259 [==============================] - 1s 4ms/step - loss: 0.1762 - accuracy: 0.9268\n",
            "Epoch 89/100\n",
            "259/259 [==============================] - 1s 3ms/step - loss: 0.1752 - accuracy: 0.9258\n",
            "Epoch 90/100\n",
            "259/259 [==============================] - 1s 4ms/step - loss: 0.1737 - accuracy: 0.9266\n",
            "Epoch 91/100\n",
            "259/259 [==============================] - 1s 4ms/step - loss: 0.1690 - accuracy: 0.9266\n",
            "Epoch 92/100\n",
            "259/259 [==============================] - 1s 3ms/step - loss: 0.1783 - accuracy: 0.9224\n",
            "Epoch 93/100\n",
            "259/259 [==============================] - 1s 2ms/step - loss: 0.1723 - accuracy: 0.9288\n",
            "Epoch 94/100\n",
            "259/259 [==============================] - 1s 2ms/step - loss: 0.1668 - accuracy: 0.9310\n",
            "Epoch 95/100\n",
            "259/259 [==============================] - 1s 2ms/step - loss: 0.1658 - accuracy: 0.9285\n",
            "Epoch 96/100\n",
            "259/259 [==============================] - 1s 2ms/step - loss: 0.1659 - accuracy: 0.9303\n",
            "Epoch 97/100\n",
            "259/259 [==============================] - 1s 2ms/step - loss: 0.1632 - accuracy: 0.9314\n",
            "Epoch 98/100\n",
            "259/259 [==============================] - 1s 2ms/step - loss: 0.1658 - accuracy: 0.9286\n",
            "Epoch 99/100\n",
            "259/259 [==============================] - 1s 2ms/step - loss: 0.1642 - accuracy: 0.9312\n",
            "Epoch 100/100\n",
            "259/259 [==============================] - 1s 2ms/step - loss: 0.1642 - accuracy: 0.9301\n",
            "65/65 [==============================] - 0s 1ms/step\n",
            "65/65 [==============================] - 0s 2ms/step - loss: 0.8643 - accuracy: 0.8001\n",
            "Test Loss: 0.8643162846565247\n",
            "Test Accuracy: 0.8000968098640442\n",
            "Precision: 0.8037475345167653\n",
            "Recall: 0.7920310981535471\n",
            "F1 Score: 0.797846304454234\n"
          ]
        }
      ]
    },
    {
      "cell_type": "code",
      "source": [
        "from sklearn.metrics import  classification_report\n",
        "\n",
        "print(classification_report(y_test,y_pred_binary))"
      ],
      "metadata": {
        "colab": {
          "base_uri": "https://localhost:8080/"
        },
        "id": "aDRwFF4qOX69",
        "outputId": "4180659f-a576-4099-b7cc-5f33ed19f3e2"
      },
      "execution_count": null,
      "outputs": [
        {
          "output_type": "stream",
          "name": "stdout",
          "text": [
            "              precision    recall  f1-score   support\n",
            "\n",
            "           0       0.80      0.81      0.80      1037\n",
            "           1       0.80      0.79      0.80      1029\n",
            "\n",
            "    accuracy                           0.80      2066\n",
            "   macro avg       0.80      0.80      0.80      2066\n",
            "weighted avg       0.80      0.80      0.80      2066\n",
            "\n"
          ]
        }
      ]
    },
    {
      "cell_type": "markdown",
      "source": [
        "**removing some features and compare the results**"
      ],
      "metadata": {
        "id": "r_bmKypUN08d"
      }
    },
    {
      "cell_type": "code",
      "source": [
        "\n",
        "from sklearn.feature_selection import RFE\n",
        "from sklearn.linear_model import LogisticRegression\n",
        "\n",
        "# Create an estimator for feature ranking\n",
        "estimator = LogisticRegression(max_iter=1000)\n",
        "\n",
        "# Create RFE object and specify the desired number of features to select\n",
        "rfe = RFE(estimator, n_features_to_select=20)\n",
        "\n",
        "# Fit RFE to the resampled data\n",
        "rfe.fit(X_resampled, y_resampled)\n",
        "\n",
        "# Print the rankings of the features\n",
        "feature_rankings = pd.DataFrame({'Feature': X_resampled.columns, 'Ranking': rfe.ranking_})\n",
        "print(feature_rankings)\n",
        "\n",
        "# Identify the four least ranked features\n",
        "least_ranked_features = feature_rankings.nsmallest(4, 'Ranking')['Feature']\n",
        "\n",
        "# Drop the least ranked features from the dataset\n",
        "X_resampled_dropped = X_resampled.drop(least_ranked_features, axis=1)\n"
      ],
      "metadata": {
        "colab": {
          "base_uri": "https://localhost:8080/"
        },
        "id": "1qF3YurlRVDU",
        "outputId": "32948d82-4415-47fc-a96a-db13a14efb79"
      },
      "execution_count": null,
      "outputs": [
        {
          "output_type": "stream",
          "name": "stdout",
          "text": [
            "                                    Feature  Ranking\n",
            "0                                    gender        6\n",
            "1                             SeniorCitizen        7\n",
            "2                                   Partner        5\n",
            "3                                Dependents        3\n",
            "4                                    tenure        1\n",
            "5                              PhoneService        1\n",
            "6                             MultipleLines        2\n",
            "7                            OnlineSecurity        1\n",
            "8                              OnlineBackup        1\n",
            "9                          DeviceProtection        1\n",
            "10                              TechSupport        1\n",
            "11                              StreamingTV        1\n",
            "12                          StreamingMovies        1\n",
            "13                         PaperlessBilling        4\n",
            "14                           MonthlyCharges        1\n",
            "15                             TotalCharges        1\n",
            "16                      InternetService_DSL        1\n",
            "17              InternetService_Fiber optic        1\n",
            "18                       InternetService_No        1\n",
            "19                  Contract_Month-to-month        1\n",
            "20                        Contract_One year        1\n",
            "21                        Contract_Two year        1\n",
            "22  PaymentMethod_Bank transfer (automatic)        1\n",
            "23    PaymentMethod_Credit card (automatic)        1\n",
            "24           PaymentMethod_Electronic check        1\n",
            "25               PaymentMethod_Mailed check        1\n"
          ]
        }
      ]
    },
    {
      "cell_type": "code",
      "source": [
        "X_resampled_dropped.shape"
      ],
      "metadata": {
        "colab": {
          "base_uri": "https://localhost:8080/"
        },
        "id": "bD22jCXcR1hd",
        "outputId": "7eb758e2-dd96-4244-bb77-d83ba1355138"
      },
      "execution_count": null,
      "outputs": [
        {
          "output_type": "execute_result",
          "data": {
            "text/plain": [
              "(10326, 22)"
            ]
          },
          "metadata": {},
          "execution_count": 86
        }
      ]
    },
    {
      "cell_type": "code",
      "source": [
        "from sklearn.model_selection import train_test_split\n",
        "\n",
        "# Split the data into training and testing sets\n",
        "X_train2, X_test2, y_train2, y_test2 = train_test_split(X_resampled_dropped, y_resampled, test_size=0.2, random_state=42)\n",
        "\n",
        "# Print the shape of the training and testing sets\n",
        "print(\"X_train shape:\", X_train2.shape)\n",
        "print(\"y_train shape:\", y_train2.shape)\n",
        "print(\"X_test shape:\", X_test2.shape)\n",
        "print(\"y_test shape:\", y_test2.shape)\n"
      ],
      "metadata": {
        "colab": {
          "base_uri": "https://localhost:8080/"
        },
        "id": "PlANCikUR1gi",
        "outputId": "db02b6b6-036d-4a53-e7b4-fad86b54d931"
      },
      "execution_count": null,
      "outputs": [
        {
          "output_type": "stream",
          "name": "stdout",
          "text": [
            "X_train shape: (8260, 22)\n",
            "y_train shape: (8260,)\n",
            "X_test shape: (2066, 22)\n",
            "y_test shape: (2066,)\n"
          ]
        }
      ]
    },
    {
      "cell_type": "code",
      "source": [
        "import numpy as np\n",
        "from sklearn.model_selection import train_test_split\n",
        "from sklearn.metrics import precision_score, recall_score, f1_score\n",
        "from keras.models import Sequential\n",
        "from keras.layers import Dense\n",
        "# Create the ANN model\n",
        "model = Sequential()\n",
        "model.add(Dense(64, input_shape=(X_train2.shape[1],), activation='relu'))\n",
        "model.add(Dense(64, activation='relu'))\n",
        "model.add(Dense(32, activation='relu'))\n",
        "model.add(Dense(1, activation='sigmoid'))\n",
        "\n",
        "# Compile the model\n",
        "model.compile(loss='binary_crossentropy', optimizer='adam', metrics=['accuracy'])\n",
        "\n",
        "# Train the model\n",
        "model.fit(X_train2, y_train2, batch_size=32, epochs=100, verbose=1)\n",
        "\n",
        "# Predict on the test set\n",
        "y_pred2 = model.predict(X_test2)\n",
        "y_pred_binary2 = np.round(y_pred2)  # Convert probabilities to binary predictions (0 or 1)\n",
        "\n",
        "# Calculate precision, recall, and F1 score\n",
        "loss, accuracy = model.evaluate(X_test2, y_test2)\n",
        "precision = precision_score(y_test2, y_pred_binary2)\n",
        "recall = recall_score(y_test2, y_pred_binary2)\n",
        "f1 = f1_score(y_test2, y_pred_binary2)\n",
        "print(\"Test Loss:\", loss)\n",
        "print(\"Test Accuracy:\", accuracy)\n",
        "print(\"Precision:\", precision)\n",
        "print(\"Recall:\", recall)\n",
        "print(\"F1 Score:\", f1)\n"
      ],
      "metadata": {
        "colab": {
          "base_uri": "https://localhost:8080/"
        },
        "id": "YL-gBFAMSJDJ",
        "outputId": "3f111d45-7874-4cd3-ff43-0ff097e5f2ed"
      },
      "execution_count": null,
      "outputs": [
        {
          "output_type": "stream",
          "name": "stdout",
          "text": [
            "Epoch 1/100\n",
            "259/259 [==============================] - 2s 5ms/step - loss: 0.5107 - accuracy: 0.7489\n",
            "Epoch 2/100\n",
            "259/259 [==============================] - 1s 2ms/step - loss: 0.4721 - accuracy: 0.7678\n",
            "Epoch 3/100\n",
            "259/259 [==============================] - 1s 2ms/step - loss: 0.4553 - accuracy: 0.7785\n",
            "Epoch 4/100\n",
            "259/259 [==============================] - 1s 2ms/step - loss: 0.4431 - accuracy: 0.7877\n",
            "Epoch 5/100\n",
            "259/259 [==============================] - 1s 2ms/step - loss: 0.4373 - accuracy: 0.7895\n",
            "Epoch 6/100\n",
            "259/259 [==============================] - 1s 2ms/step - loss: 0.4288 - accuracy: 0.7938\n",
            "Epoch 7/100\n",
            "259/259 [==============================] - 1s 2ms/step - loss: 0.4227 - accuracy: 0.7983\n",
            "Epoch 8/100\n",
            "259/259 [==============================] - 1s 3ms/step - loss: 0.4152 - accuracy: 0.8027\n",
            "Epoch 9/100\n",
            "259/259 [==============================] - 1s 2ms/step - loss: 0.4062 - accuracy: 0.8115\n",
            "Epoch 10/100\n",
            "259/259 [==============================] - 1s 2ms/step - loss: 0.4029 - accuracy: 0.8128\n",
            "Epoch 11/100\n",
            "259/259 [==============================] - 1s 2ms/step - loss: 0.3964 - accuracy: 0.8183\n",
            "Epoch 12/100\n",
            "259/259 [==============================] - 1s 4ms/step - loss: 0.3921 - accuracy: 0.8176\n",
            "Epoch 13/100\n",
            "259/259 [==============================] - 1s 3ms/step - loss: 0.3893 - accuracy: 0.8197\n",
            "Epoch 14/100\n",
            "259/259 [==============================] - 1s 4ms/step - loss: 0.3851 - accuracy: 0.8258\n",
            "Epoch 15/100\n",
            "259/259 [==============================] - 1s 4ms/step - loss: 0.3789 - accuracy: 0.8264\n",
            "Epoch 16/100\n",
            "259/259 [==============================] - 1s 3ms/step - loss: 0.3762 - accuracy: 0.8272\n",
            "Epoch 17/100\n",
            "259/259 [==============================] - 1s 2ms/step - loss: 0.3721 - accuracy: 0.8317\n",
            "Epoch 18/100\n",
            "259/259 [==============================] - 1s 2ms/step - loss: 0.3645 - accuracy: 0.8361\n",
            "Epoch 19/100\n",
            "259/259 [==============================] - 1s 2ms/step - loss: 0.3643 - accuracy: 0.8335\n",
            "Epoch 20/100\n",
            "259/259 [==============================] - 1s 2ms/step - loss: 0.3580 - accuracy: 0.8383\n",
            "Epoch 21/100\n",
            "259/259 [==============================] - 1s 2ms/step - loss: 0.3558 - accuracy: 0.8396\n",
            "Epoch 22/100\n",
            "259/259 [==============================] - 1s 2ms/step - loss: 0.3530 - accuracy: 0.8427\n",
            "Epoch 23/100\n",
            "259/259 [==============================] - 1s 2ms/step - loss: 0.3488 - accuracy: 0.8410\n",
            "Epoch 24/100\n",
            "259/259 [==============================] - 1s 2ms/step - loss: 0.3454 - accuracy: 0.8441\n",
            "Epoch 25/100\n",
            "259/259 [==============================] - 1s 3ms/step - loss: 0.3395 - accuracy: 0.8481\n",
            "Epoch 26/100\n",
            "259/259 [==============================] - 1s 3ms/step - loss: 0.3382 - accuracy: 0.8505\n",
            "Epoch 27/100\n",
            "259/259 [==============================] - 1s 2ms/step - loss: 0.3394 - accuracy: 0.8502\n",
            "Epoch 28/100\n",
            "259/259 [==============================] - 1s 3ms/step - loss: 0.3348 - accuracy: 0.8535\n",
            "Epoch 29/100\n",
            "259/259 [==============================] - 1s 3ms/step - loss: 0.3307 - accuracy: 0.8536\n",
            "Epoch 30/100\n",
            "259/259 [==============================] - 1s 3ms/step - loss: 0.3298 - accuracy: 0.8567\n",
            "Epoch 31/100\n",
            "259/259 [==============================] - 1s 2ms/step - loss: 0.3260 - accuracy: 0.8550\n",
            "Epoch 32/100\n",
            "259/259 [==============================] - 1s 4ms/step - loss: 0.3219 - accuracy: 0.8561\n",
            "Epoch 33/100\n",
            "259/259 [==============================] - 1s 4ms/step - loss: 0.3205 - accuracy: 0.8599\n",
            "Epoch 34/100\n",
            "259/259 [==============================] - 1s 4ms/step - loss: 0.3191 - accuracy: 0.8594\n",
            "Epoch 35/100\n",
            "259/259 [==============================] - 1s 4ms/step - loss: 0.3132 - accuracy: 0.8592\n",
            "Epoch 36/100\n",
            "259/259 [==============================] - 1s 3ms/step - loss: 0.3134 - accuracy: 0.8620\n",
            "Epoch 37/100\n",
            "259/259 [==============================] - 1s 2ms/step - loss: 0.3105 - accuracy: 0.8623\n",
            "Epoch 38/100\n",
            "259/259 [==============================] - 1s 2ms/step - loss: 0.3091 - accuracy: 0.8626\n",
            "Epoch 39/100\n",
            "259/259 [==============================] - 1s 3ms/step - loss: 0.3091 - accuracy: 0.8639\n",
            "Epoch 40/100\n",
            "259/259 [==============================] - 1s 2ms/step - loss: 0.3029 - accuracy: 0.8662\n",
            "Epoch 41/100\n",
            "259/259 [==============================] - 1s 3ms/step - loss: 0.3022 - accuracy: 0.8660\n",
            "Epoch 42/100\n",
            "259/259 [==============================] - 1s 3ms/step - loss: 0.2969 - accuracy: 0.8667\n",
            "Epoch 43/100\n",
            "259/259 [==============================] - 1s 3ms/step - loss: 0.2962 - accuracy: 0.8665\n",
            "Epoch 44/100\n",
            "259/259 [==============================] - 1s 3ms/step - loss: 0.2932 - accuracy: 0.8722\n",
            "Epoch 45/100\n",
            "259/259 [==============================] - 1s 2ms/step - loss: 0.2951 - accuracy: 0.8691\n",
            "Epoch 46/100\n",
            "259/259 [==============================] - 1s 2ms/step - loss: 0.2881 - accuracy: 0.8748\n",
            "Epoch 47/100\n",
            "259/259 [==============================] - 1s 2ms/step - loss: 0.2921 - accuracy: 0.8692\n",
            "Epoch 48/100\n",
            "259/259 [==============================] - 1s 2ms/step - loss: 0.2852 - accuracy: 0.8740\n",
            "Epoch 49/100\n",
            "259/259 [==============================] - 1s 2ms/step - loss: 0.2836 - accuracy: 0.8753\n",
            "Epoch 50/100\n",
            "259/259 [==============================] - 1s 3ms/step - loss: 0.2880 - accuracy: 0.8740\n",
            "Epoch 51/100\n",
            "259/259 [==============================] - 1s 3ms/step - loss: 0.2827 - accuracy: 0.8792\n",
            "Epoch 52/100\n",
            "259/259 [==============================] - 1s 3ms/step - loss: 0.2806 - accuracy: 0.8772\n",
            "Epoch 53/100\n",
            "259/259 [==============================] - 1s 4ms/step - loss: 0.2762 - accuracy: 0.8789\n",
            "Epoch 54/100\n",
            "259/259 [==============================] - 1s 4ms/step - loss: 0.2735 - accuracy: 0.8829\n",
            "Epoch 55/100\n",
            "259/259 [==============================] - 1s 3ms/step - loss: 0.2735 - accuracy: 0.8822\n",
            "Epoch 56/100\n",
            "259/259 [==============================] - 1s 3ms/step - loss: 0.2689 - accuracy: 0.8815\n",
            "Epoch 57/100\n",
            "259/259 [==============================] - 1s 2ms/step - loss: 0.2678 - accuracy: 0.8831\n",
            "Epoch 58/100\n",
            "259/259 [==============================] - 1s 2ms/step - loss: 0.2731 - accuracy: 0.8831\n",
            "Epoch 59/100\n",
            "259/259 [==============================] - 1s 3ms/step - loss: 0.2664 - accuracy: 0.8834\n",
            "Epoch 60/100\n",
            "259/259 [==============================] - 1s 2ms/step - loss: 0.2668 - accuracy: 0.8826\n",
            "Epoch 61/100\n",
            "259/259 [==============================] - 1s 3ms/step - loss: 0.2646 - accuracy: 0.8841\n",
            "Epoch 62/100\n",
            "259/259 [==============================] - 1s 3ms/step - loss: 0.2625 - accuracy: 0.8858\n",
            "Epoch 63/100\n",
            "259/259 [==============================] - 1s 2ms/step - loss: 0.2596 - accuracy: 0.8879\n",
            "Epoch 64/100\n",
            "259/259 [==============================] - 1s 3ms/step - loss: 0.2575 - accuracy: 0.8868\n",
            "Epoch 65/100\n",
            "259/259 [==============================] - 1s 2ms/step - loss: 0.2604 - accuracy: 0.8874\n",
            "Epoch 66/100\n",
            "259/259 [==============================] - 1s 2ms/step - loss: 0.2569 - accuracy: 0.8891\n",
            "Epoch 67/100\n",
            "259/259 [==============================] - 1s 3ms/step - loss: 0.2524 - accuracy: 0.8886\n",
            "Epoch 68/100\n",
            "259/259 [==============================] - 1s 2ms/step - loss: 0.2562 - accuracy: 0.8909\n",
            "Epoch 69/100\n",
            "259/259 [==============================] - 1s 2ms/step - loss: 0.2546 - accuracy: 0.8873\n",
            "Epoch 70/100\n",
            "259/259 [==============================] - 1s 2ms/step - loss: 0.2525 - accuracy: 0.8910\n",
            "Epoch 71/100\n",
            "259/259 [==============================] - 1s 2ms/step - loss: 0.2547 - accuracy: 0.8881\n",
            "Epoch 72/100\n",
            "259/259 [==============================] - 1s 4ms/step - loss: 0.2495 - accuracy: 0.8910\n",
            "Epoch 73/100\n",
            "259/259 [==============================] - 1s 4ms/step - loss: 0.2568 - accuracy: 0.8918\n",
            "Epoch 74/100\n",
            "259/259 [==============================] - 1s 4ms/step - loss: 0.2433 - accuracy: 0.8901\n",
            "Epoch 75/100\n",
            "259/259 [==============================] - 1s 4ms/step - loss: 0.2478 - accuracy: 0.8907\n",
            "Epoch 76/100\n",
            "259/259 [==============================] - 1s 3ms/step - loss: 0.2430 - accuracy: 0.8933\n",
            "Epoch 77/100\n",
            "259/259 [==============================] - 1s 2ms/step - loss: 0.2436 - accuracy: 0.8903\n",
            "Epoch 78/100\n",
            "259/259 [==============================] - 1s 2ms/step - loss: 0.2446 - accuracy: 0.8925\n",
            "Epoch 79/100\n",
            "259/259 [==============================] - 1s 2ms/step - loss: 0.2390 - accuracy: 0.8961\n",
            "Epoch 80/100\n",
            "259/259 [==============================] - 1s 3ms/step - loss: 0.2438 - accuracy: 0.8942\n",
            "Epoch 81/100\n",
            "259/259 [==============================] - 1s 3ms/step - loss: 0.2398 - accuracy: 0.8972\n",
            "Epoch 82/100\n",
            "259/259 [==============================] - 1s 3ms/step - loss: 0.2424 - accuracy: 0.8954\n",
            "Epoch 83/100\n",
            "259/259 [==============================] - 1s 3ms/step - loss: 0.2375 - accuracy: 0.8976\n",
            "Epoch 84/100\n",
            "259/259 [==============================] - 1s 3ms/step - loss: 0.2325 - accuracy: 0.8987\n",
            "Epoch 85/100\n",
            "259/259 [==============================] - 1s 3ms/step - loss: 0.2378 - accuracy: 0.8962\n",
            "Epoch 86/100\n",
            "259/259 [==============================] - 1s 2ms/step - loss: 0.2312 - accuracy: 0.9007\n",
            "Epoch 87/100\n",
            "259/259 [==============================] - 1s 2ms/step - loss: 0.2425 - accuracy: 0.8931\n",
            "Epoch 88/100\n",
            "259/259 [==============================] - 1s 2ms/step - loss: 0.2336 - accuracy: 0.8996\n",
            "Epoch 89/100\n",
            "259/259 [==============================] - 1s 3ms/step - loss: 0.2339 - accuracy: 0.8969\n",
            "Epoch 90/100\n",
            "259/259 [==============================] - 1s 3ms/step - loss: 0.2299 - accuracy: 0.8999\n",
            "Epoch 91/100\n",
            "259/259 [==============================] - 1s 3ms/step - loss: 0.2448 - accuracy: 0.8927\n",
            "Epoch 92/100\n",
            "259/259 [==============================] - 1s 4ms/step - loss: 0.2306 - accuracy: 0.9011\n",
            "Epoch 93/100\n",
            "259/259 [==============================] - 1s 4ms/step - loss: 0.2270 - accuracy: 0.9002\n",
            "Epoch 94/100\n",
            "259/259 [==============================] - 1s 4ms/step - loss: 0.2258 - accuracy: 0.9008\n",
            "Epoch 95/100\n",
            "259/259 [==============================] - 1s 4ms/step - loss: 0.2262 - accuracy: 0.9012\n",
            "Epoch 96/100\n",
            "259/259 [==============================] - 1s 3ms/step - loss: 0.2318 - accuracy: 0.8990\n",
            "Epoch 97/100\n",
            "259/259 [==============================] - 1s 2ms/step - loss: 0.2274 - accuracy: 0.8989\n",
            "Epoch 98/100\n",
            "259/259 [==============================] - 1s 3ms/step - loss: 0.2250 - accuracy: 0.9021\n",
            "Epoch 99/100\n",
            "259/259 [==============================] - 1s 3ms/step - loss: 0.2266 - accuracy: 0.8996\n",
            "Epoch 100/100\n",
            "259/259 [==============================] - 1s 2ms/step - loss: 0.2217 - accuracy: 0.9040\n",
            "65/65 [==============================] - 0s 2ms/step\n",
            "65/65 [==============================] - 0s 2ms/step - loss: 0.6984 - accuracy: 0.8083\n",
            "Test Loss: 0.6983563899993896\n",
            "Test Accuracy: 0.8083252906799316\n",
            "Precision: 0.7759372275501307\n",
            "Recall: 0.8649173955296404\n",
            "F1 Score: 0.8180147058823528\n"
          ]
        }
      ]
    },
    {
      "cell_type": "code",
      "source": [
        "from sklearn.metrics import  classification_report\n",
        "\n",
        "print(classification_report(y_test2,y_pred_binary2))"
      ],
      "metadata": {
        "colab": {
          "base_uri": "https://localhost:8080/"
        },
        "id": "CZog0BbfS5RP",
        "outputId": "cf24e1ac-f93c-45dc-966e-728d45b1a804"
      },
      "execution_count": null,
      "outputs": [
        {
          "output_type": "stream",
          "name": "stdout",
          "text": [
            "              precision    recall  f1-score   support\n",
            "\n",
            "           0       0.85      0.75      0.80      1037\n",
            "           1       0.78      0.86      0.82      1029\n",
            "\n",
            "    accuracy                           0.81      2066\n",
            "   macro avg       0.81      0.81      0.81      2066\n",
            "weighted avg       0.81      0.81      0.81      2066\n",
            "\n"
          ]
        }
      ]
    },
    {
      "cell_type": "markdown",
      "source": [
        "we notice a slight increase in most of our metrics"
      ],
      "metadata": {
        "id": "_cYa4CoXT5kD"
      }
    },
    {
      "cell_type": "markdown",
      "source": [
        "**Trying a machine learning algorithm instead of a neural network using XGBoost**"
      ],
      "metadata": {
        "id": "j44ivvtZ8YIb"
      }
    },
    {
      "cell_type": "code",
      "source": [
        "import xgboost as xgb\n",
        "from sklearn.metrics import accuracy_score, precision_score, recall_score, f1_score\n",
        "\n",
        "# Create an XGBoost classifier\n",
        "model = xgb.XGBClassifier(\n",
        "    max_depth=8,\n",
        "    learning_rate=0.05,\n",
        "    subsample=1.0,\n",
        "    colsample_bytree=1.0,\n",
        "    min_child_weight=2,\n",
        "    gamma=2,\n",
        "    n_estimators=100,\n",
        "\n",
        ")  # Assigning class weights\n",
        "\n",
        "# Define the evaluation set\n",
        "eval_set = [(X_test2, y_test2)]  # Replace X_eval and y_eval with your evaluation data\n",
        "\n",
        "# Train the model with evaluation set\n",
        "model.fit(X_train2, y_train2, eval_set=eval_set, eval_metric=[\"error\", \"logloss\"], early_stopping_rounds=10)\n",
        "\n",
        "# Make predictions on the training set\n",
        "y_train_pred = model.predict(X_train2)\n",
        "\n",
        "# Make predictions on the evaluation set\n",
        "y_eval_pred = model.predict(X_test2)\n",
        "\n",
        "# Evaluate model performance on the training set\n",
        "train_accuracy = accuracy_score(y_train2, y_train_pred)\n",
        "train_precision = precision_score(y_train2, y_train_pred)\n",
        "train_recall = recall_score(y_train2, y_train_pred)\n",
        "train_f1 = f1_score(y_train2, y_train_pred)\n",
        "\n",
        "# Evaluate model performance on the evaluation set\n",
        "eval_accuracy = accuracy_score(y_test2, y_eval_pred)\n",
        "eval_precision = precision_score(y_test2, y_eval_pred)\n",
        "eval_recall = recall_score(y_test2, y_eval_pred)\n",
        "eval_f1 = f1_score(y_test2, y_eval_pred)\n",
        "\n",
        "# Print the performance metrics\n",
        "print(\"Training Accuracy:\", train_accuracy)\n",
        "print(\"Training Precision:\", train_precision)\n",
        "print(\"Training Recall:\", train_recall)\n",
        "print(\"Training F1 Score:\", train_f1)\n",
        "print(\"Evaluation Accuracy:\", eval_accuracy)\n",
        "print(\"Evaluation Precision:\", eval_precision)\n",
        "print(\"Evaluation Recall:\", eval_recall)\n",
        "print(\"Evaluation F1 Score:\", eval_f1)\n"
      ],
      "metadata": {
        "colab": {
          "base_uri": "https://localhost:8080/"
        },
        "id": "7UD_7S5s9eEP",
        "outputId": "29399c7e-cc51-4aed-f219-d890316351b4"
      },
      "execution_count": null,
      "outputs": [
        {
          "output_type": "stream",
          "name": "stdout",
          "text": [
            "[0]\tvalidation_0-error:0.21926\tvalidation_0-logloss:0.67254\n",
            "[1]\tvalidation_0-error:0.21975\tvalidation_0-logloss:0.65403\n",
            "[2]\tvalidation_0-error:0.22023\tvalidation_0-logloss:0.63712\n",
            "[3]\tvalidation_0-error:0.21781\tvalidation_0-logloss:0.62142\n",
            "[4]\tvalidation_0-error:0.21926\tvalidation_0-logloss:0.60742\n",
            "[5]\tvalidation_0-error:0.21442\tvalidation_0-logloss:0.59416\n",
            "[6]\tvalidation_0-error:0.20862\tvalidation_0-logloss:0.58204\n",
            "[7]\tvalidation_0-error:0.20910\tvalidation_0-logloss:0.57096\n"
          ]
        },
        {
          "output_type": "stream",
          "name": "stderr",
          "text": [
            "/usr/local/lib/python3.10/dist-packages/xgboost/sklearn.py:835: UserWarning: `eval_metric` in `fit` method is deprecated for better compatibility with scikit-learn, use `eval_metric` in constructor or`set_params` instead.\n",
            "  warnings.warn(\n",
            "/usr/local/lib/python3.10/dist-packages/xgboost/sklearn.py:835: UserWarning: `early_stopping_rounds` in `fit` method is deprecated for better compatibility with scikit-learn, use `early_stopping_rounds` in constructor or`set_params` instead.\n",
            "  warnings.warn(\n"
          ]
        },
        {
          "output_type": "stream",
          "name": "stdout",
          "text": [
            "[8]\tvalidation_0-error:0.20862\tvalidation_0-logloss:0.56082\n",
            "[9]\tvalidation_0-error:0.20813\tvalidation_0-logloss:0.55122\n",
            "[10]\tvalidation_0-error:0.20620\tvalidation_0-logloss:0.54268\n",
            "[11]\tvalidation_0-error:0.20716\tvalidation_0-logloss:0.53506\n",
            "[12]\tvalidation_0-error:0.20765\tvalidation_0-logloss:0.52736\n",
            "[13]\tvalidation_0-error:0.20620\tvalidation_0-logloss:0.52052\n",
            "[14]\tvalidation_0-error:0.20668\tvalidation_0-logloss:0.51423\n",
            "[15]\tvalidation_0-error:0.20620\tvalidation_0-logloss:0.50833\n",
            "[16]\tvalidation_0-error:0.20716\tvalidation_0-logloss:0.50291\n",
            "[17]\tvalidation_0-error:0.20474\tvalidation_0-logloss:0.49774\n",
            "[18]\tvalidation_0-error:0.20523\tvalidation_0-logloss:0.49304\n",
            "[19]\tvalidation_0-error:0.20329\tvalidation_0-logloss:0.48871\n",
            "[20]\tvalidation_0-error:0.20474\tvalidation_0-logloss:0.48483\n",
            "[21]\tvalidation_0-error:0.20426\tvalidation_0-logloss:0.48088\n",
            "[22]\tvalidation_0-error:0.20523\tvalidation_0-logloss:0.47765\n",
            "[23]\tvalidation_0-error:0.20668\tvalidation_0-logloss:0.47443\n",
            "[24]\tvalidation_0-error:0.20571\tvalidation_0-logloss:0.47113\n",
            "[25]\tvalidation_0-error:0.20378\tvalidation_0-logloss:0.46833\n",
            "[26]\tvalidation_0-error:0.20716\tvalidation_0-logloss:0.46584\n",
            "[27]\tvalidation_0-error:0.20668\tvalidation_0-logloss:0.46384\n",
            "[28]\tvalidation_0-error:0.20668\tvalidation_0-logloss:0.46169\n",
            "[29]\tvalidation_0-error:0.20620\tvalidation_0-logloss:0.45940\n",
            "[30]\tvalidation_0-error:0.20668\tvalidation_0-logloss:0.45759\n",
            "[31]\tvalidation_0-error:0.20668\tvalidation_0-logloss:0.45584\n",
            "[32]\tvalidation_0-error:0.20668\tvalidation_0-logloss:0.45389\n",
            "[33]\tvalidation_0-error:0.20571\tvalidation_0-logloss:0.45242\n",
            "[34]\tvalidation_0-error:0.20523\tvalidation_0-logloss:0.45097\n",
            "[35]\tvalidation_0-error:0.20523\tvalidation_0-logloss:0.44925\n",
            "[36]\tvalidation_0-error:0.20426\tvalidation_0-logloss:0.44758\n",
            "[37]\tvalidation_0-error:0.20571\tvalidation_0-logloss:0.44628\n",
            "[38]\tvalidation_0-error:0.20329\tvalidation_0-logloss:0.44495\n",
            "[39]\tvalidation_0-error:0.20329\tvalidation_0-logloss:0.44377\n",
            "[40]\tvalidation_0-error:0.20232\tvalidation_0-logloss:0.44258\n",
            "[41]\tvalidation_0-error:0.20232\tvalidation_0-logloss:0.44164\n",
            "[42]\tvalidation_0-error:0.20329\tvalidation_0-logloss:0.44080\n",
            "[43]\tvalidation_0-error:0.20087\tvalidation_0-logloss:0.43999\n",
            "[44]\tvalidation_0-error:0.20087\tvalidation_0-logloss:0.43912\n",
            "[45]\tvalidation_0-error:0.19797\tvalidation_0-logloss:0.43795\n",
            "[46]\tvalidation_0-error:0.19894\tvalidation_0-logloss:0.43727\n",
            "[47]\tvalidation_0-error:0.19797\tvalidation_0-logloss:0.43672\n",
            "[48]\tvalidation_0-error:0.19845\tvalidation_0-logloss:0.43603\n",
            "[49]\tvalidation_0-error:0.19845\tvalidation_0-logloss:0.43563\n",
            "[50]\tvalidation_0-error:0.19894\tvalidation_0-logloss:0.43521\n",
            "[51]\tvalidation_0-error:0.19748\tvalidation_0-logloss:0.43484\n",
            "[52]\tvalidation_0-error:0.19894\tvalidation_0-logloss:0.43454\n",
            "[53]\tvalidation_0-error:0.19700\tvalidation_0-logloss:0.43409\n",
            "[54]\tvalidation_0-error:0.19797\tvalidation_0-logloss:0.43360\n",
            "[55]\tvalidation_0-error:0.19797\tvalidation_0-logloss:0.43327\n",
            "[56]\tvalidation_0-error:0.19942\tvalidation_0-logloss:0.43278\n",
            "[57]\tvalidation_0-error:0.19845\tvalidation_0-logloss:0.43243\n",
            "[58]\tvalidation_0-error:0.19652\tvalidation_0-logloss:0.43218\n",
            "[59]\tvalidation_0-error:0.19603\tvalidation_0-logloss:0.43183\n",
            "[60]\tvalidation_0-error:0.19700\tvalidation_0-logloss:0.43141\n",
            "[61]\tvalidation_0-error:0.19652\tvalidation_0-logloss:0.43107\n",
            "[62]\tvalidation_0-error:0.19700\tvalidation_0-logloss:0.43082\n",
            "[63]\tvalidation_0-error:0.19652\tvalidation_0-logloss:0.43053\n",
            "[64]\tvalidation_0-error:0.19555\tvalidation_0-logloss:0.43017\n",
            "[65]\tvalidation_0-error:0.19603\tvalidation_0-logloss:0.42995\n",
            "[66]\tvalidation_0-error:0.19603\tvalidation_0-logloss:0.42966\n",
            "[67]\tvalidation_0-error:0.19603\tvalidation_0-logloss:0.42973\n",
            "[68]\tvalidation_0-error:0.19555\tvalidation_0-logloss:0.42937\n",
            "[69]\tvalidation_0-error:0.19652\tvalidation_0-logloss:0.42911\n",
            "[70]\tvalidation_0-error:0.19555\tvalidation_0-logloss:0.42888\n",
            "[71]\tvalidation_0-error:0.19506\tvalidation_0-logloss:0.42858\n",
            "[72]\tvalidation_0-error:0.19555\tvalidation_0-logloss:0.42824\n",
            "[73]\tvalidation_0-error:0.19555\tvalidation_0-logloss:0.42784\n",
            "[74]\tvalidation_0-error:0.19603\tvalidation_0-logloss:0.42787\n",
            "[75]\tvalidation_0-error:0.19700\tvalidation_0-logloss:0.42770\n",
            "[76]\tvalidation_0-error:0.19797\tvalidation_0-logloss:0.42764\n",
            "[77]\tvalidation_0-error:0.19845\tvalidation_0-logloss:0.42716\n",
            "[78]\tvalidation_0-error:0.19748\tvalidation_0-logloss:0.42682\n",
            "[79]\tvalidation_0-error:0.19700\tvalidation_0-logloss:0.42649\n",
            "[80]\tvalidation_0-error:0.19700\tvalidation_0-logloss:0.42612\n",
            "[81]\tvalidation_0-error:0.19700\tvalidation_0-logloss:0.42596\n",
            "[82]\tvalidation_0-error:0.19652\tvalidation_0-logloss:0.42587\n",
            "[83]\tvalidation_0-error:0.19555\tvalidation_0-logloss:0.42544\n",
            "[84]\tvalidation_0-error:0.19652\tvalidation_0-logloss:0.42483\n",
            "[85]\tvalidation_0-error:0.19652\tvalidation_0-logloss:0.42467\n",
            "[86]\tvalidation_0-error:0.19652\tvalidation_0-logloss:0.42460\n",
            "[87]\tvalidation_0-error:0.19555\tvalidation_0-logloss:0.42434\n",
            "[88]\tvalidation_0-error:0.19506\tvalidation_0-logloss:0.42379\n",
            "[89]\tvalidation_0-error:0.19458\tvalidation_0-logloss:0.42370\n",
            "[90]\tvalidation_0-error:0.19458\tvalidation_0-logloss:0.42343\n",
            "[91]\tvalidation_0-error:0.19603\tvalidation_0-logloss:0.42334\n",
            "[92]\tvalidation_0-error:0.19748\tvalidation_0-logloss:0.42302\n",
            "[93]\tvalidation_0-error:0.19748\tvalidation_0-logloss:0.42283\n",
            "[94]\tvalidation_0-error:0.19700\tvalidation_0-logloss:0.42281\n",
            "[95]\tvalidation_0-error:0.19603\tvalidation_0-logloss:0.42258\n",
            "[96]\tvalidation_0-error:0.19748\tvalidation_0-logloss:0.42260\n",
            "[97]\tvalidation_0-error:0.19700\tvalidation_0-logloss:0.42267\n",
            "[98]\tvalidation_0-error:0.19603\tvalidation_0-logloss:0.42264\n",
            "[99]\tvalidation_0-error:0.19652\tvalidation_0-logloss:0.42253\n",
            "Training Accuracy: 0.8761501210653753\n",
            "Training Precision: 0.8437569060773481\n",
            "Training Recall: 0.9235607160135462\n",
            "Training F1 Score: 0.8818570273703662\n",
            "Evaluation Accuracy: 0.8034849951597289\n",
            "Evaluation Precision: 0.7793721973094171\n",
            "Evaluation Recall: 0.8445092322643343\n",
            "Evaluation F1 Score: 0.8106343283582089\n"
          ]
        }
      ]
    }
  ],
  "metadata": {
    "colab": {
      "provenance": []
    },
    "kernelspec": {
      "display_name": "Python 3",
      "name": "python3"
    },
    "language_info": {
      "name": "python"
    }
  },
  "nbformat": 4,
  "nbformat_minor": 0
}